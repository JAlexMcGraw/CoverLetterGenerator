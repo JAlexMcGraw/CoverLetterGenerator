{
 "cells": [
  {
   "cell_type": "code",
   "execution_count": 5,
   "metadata": {},
   "outputs": [
    {
     "data": {
      "text/plain": [
       "True"
      ]
     },
     "execution_count": 5,
     "metadata": {},
     "output_type": "execute_result"
    }
   ],
   "source": [
    "# from llama_index import download_loader\n",
    "from langchain.document_loaders import PyPDFLoader, SeleniumURLLoader\n",
    "from langchain.chains.question_answering import load_qa_chain\n",
    "from docx import Document\n",
    "from pathlib import Path\n",
    "from pprint import pprint\n",
    "from bs4 import BeautifulSoup\n",
    "from dotenv import load_dotenv\n",
    "import pdfplumber\n",
    "import openai\n",
    "from openai import OpenAI\n",
    "from pydantic import BaseModel\n",
    "\n",
    "from langchain.chat_models import ChatOpenAI\n",
    "from langchain.prompts import PromptTemplate\n",
    "from langchain.prompts.chat import (\n",
    "    ChatPromptTemplate,\n",
    "    HumanMessagePromptTemplate,\n",
    "    SystemMessagePromptTemplate,\n",
    ")\n",
    "from langchain.schema import HumanMessage, SystemMessage\n",
    "\n",
    "load_dotenv()"
   ]
  },
  {
   "cell_type": "code",
   "execution_count": 6,
   "metadata": {},
   "outputs": [],
   "source": [
    "# PDFReader = download_loader(\"PDFReader\")\n",
    "# loader = PDFReader()\n",
    "# resume = loader.load_data(file=Path(\"/Users/alexmcgraw/Documents/Resumes:Cover Letters:Case_stuff/Alex McGraw Resume, December '23.pdf\"))"
   ]
  },
  {
   "cell_type": "code",
   "execution_count": 7,
   "metadata": {},
   "outputs": [
    {
     "name": "stdout",
     "output_type": "stream",
     "text": [
      "Alex McGraw Resume Dec 23 v2.pdf\n",
      "Alex McGraw Resume, December '23, v2.docx\n",
      "Alex McGraw Resume, December '23, v2.pdf\n",
      "FastAPI Swagger Response.json\n",
      "\u001b[1m\u001b[36m__pycache__\u001b[m\u001b[m\n",
      "cover_letter.docx\n",
      "data_readers.ipynb\n",
      "environment.yml\n",
      "file.txt\n",
      "main-testing.py\n",
      "main.py\n",
      "openai_api_key.txt\n",
      "requirements_new.txt\n",
      "resume_job_app_post.py\n",
      "selenium_scraper.ipynb\n",
      "utils.py\n"
     ]
    }
   ],
   "source": [
    "!ls"
   ]
  },
  {
   "cell_type": "code",
   "execution_count": 8,
   "metadata": {},
   "outputs": [
    {
     "name": "stdout",
     "output_type": "stream",
     "text": [
      "('ALEX MCGRAW\\n'\n",
      " 'Jamcgraw21@gmail.com\\n'\n",
      " 'github.com/JAlexMcGraw www.linkedin.com/in/josephalexmcgraw (972) 768-3879\\n'\n",
      " 'EXPERIENCE\\n'\n",
      " 'Slalom Consulting – Consultant (Data Science/Engineering); Chicago, Illinois '\n",
      " 'January 2023 - Present\\n'\n",
      " '● Scope a generative AI project for a major pharmaceuticals company, to help '\n",
      " 'multiple finance teams with developing\\n'\n",
      " 'presentation support material for the C-suite, and Q&A over hundreds of '\n",
      " 'various financial documents\\n'\n",
      " '● Build a generative AI POC using modified Langchain and Llama-index code, '\n",
      " 'OpenAI models, and Azure platform, for\\n'\n",
      " 'users to query a corpus of hundreds of source documents and receive insights '\n",
      " 'from various economic reports\\n'\n",
      " '● Analyze data discrepancies between the client’s legacy call routing tool '\n",
      " 'and the newly implemented Salesforce tool\\n'\n",
      " 'using SQL, to ensure that the data migration between the tools is a '\n",
      " 'one-to-one match\\n'\n",
      " 'Slalom Consulting – Associate Consultant (Data Science/Engineering); '\n",
      " 'Chicago, Illinois June 2021 - January 2023\\n'\n",
      " '● Wrote, tested, and productionalized 11 machine learning models alongside '\n",
      " 'two other data scientists using Azure for a\\n'\n",
      " 'Fortune 50 company. Models helped business account leads identify churn risk '\n",
      " 'level of current clients, who to pursue,\\n'\n",
      " 'and has projected returns of more than $200 million over three years\\n'\n",
      " '● Developed three batch data pipelines and statistical models in Python to '\n",
      " 'detect key metric incidents for a Fortune 50\\n'\n",
      " 'technology company, with the production leveraged Docker, Kubernetes pods, '\n",
      " 'and Airflow DAGs. This led to a\\n'\n",
      " 'decrease in response times to incidents and decrease in missed anomalies by '\n",
      " 'the client’s team\\n'\n",
      " '● Utilized git for codebase and environment management, and code reviews, '\n",
      " 'which helped formalize the team’s\\n'\n",
      " 'development and production process for seamless code updates\\n'\n",
      " 'DATA SCIENCE PROJECTS AND CONTRIBUTIONS\\n'\n",
      " 'Llama-index/Llama-hub Open Source Contributor Winter 2023\\n'\n",
      " '● Contributed code to Llama-hub to make connections to Azure blob storage '\n",
      " 'more robust and avoid credential errors\\n'\n",
      " '● Enhanced functionality of the PDF Reader class from llama-index, giving '\n",
      " 'users more control over document structure\\n'\n",
      " 'Graduate School Capstone Project – CDW, Ecommerce Team; Austin, Texas Spring '\n",
      " '2021\\n'\n",
      " '● Built a mixed-model product recommendation system with four other '\n",
      " 'students, based off varying datasets such as\\n'\n",
      " 'clickstream and customer data, to increase revenue from online sales by 1%\\n'\n",
      " '● Managed project scope and expectations between the student team and '\n",
      " 'business stakeholders, while communicating\\n'\n",
      " 'the state of the project and clarification of different components\\n'\n",
      " 'LEADERSHIP EXPERIENCE AND ACTIVITIES\\n'\n",
      " 'Intern Manager June 2022 – August 2022\\n'\n",
      " '● Developed a summer project for an intern, which he then presented to the '\n",
      " 'summer cohort and Slalom management\\n'\n",
      " '● Set a weekly cadence of meetings in which I checked in on his progress, '\n",
      " 'answered questions, helped him get an\\n'\n",
      " 'understanding of Slalom as a business, connect him with others in the '\n",
      " 'practice, and other ad hoc tasks\\n'\n",
      " 'Team USA Acrobatic Gymnastics -- Athlete April 2014 – April 2016\\n'\n",
      " '● Competed in two World Championships, placing 6th and 9th in France and '\n",
      " 'China, respectively\\n'\n",
      " 'TECHNICAL SKILLS\\n'\n",
      " '● Computer Languages/Software: Python, Pandas, NumPy, Sklearn, SQL, Azure, '\n",
      " 'AWS, GCP, Docker, Git, and Langchain\\n'\n",
      " '● Certifications: AWS Certified Cloud Practitioner, Databricks Certified '\n",
      " 'Machine Learning Associate\\n'\n",
      " 'EDUCATION\\n'\n",
      " 'The University of Texas at Austin May 2021\\n'\n",
      " 'Master of Science, Business Analytics\\n'\n",
      " 'Texas State University May 2020\\n'\n",
      " 'Bachelor of Business Administration, Finance (French Minor)')\n"
     ]
    }
   ],
   "source": [
    "lang_PDFReader = pdfplumber.open(\"Alex McGraw Resume Dec 23 v2.pdf\")\n",
    "lang_PDFReader_page = lang_PDFReader.pages[0]\n",
    "resume = lang_PDFReader_page.extract_text()\n",
    "# resume = lang_PDFReader.load()\n",
    "pprint(resume)"
   ]
  },
  {
   "cell_type": "code",
   "execution_count": 9,
   "metadata": {},
   "outputs": [
    {
     "name": "stdout",
     "output_type": "stream",
     "text": [
      "Part 1:\n",
      "HEADER1\n",
      "This is the content under HEADER1.\n",
      "\n",
      "SUBHEADER1\n",
      "Content under SUBHEADER1.\n",
      "\n",
      "HEADER2\n",
      "This is the content under HEADER2.\n",
      "\n",
      "Bullet Points:\n",
      "- Point 1\n",
      "- Point 2\n",
      "\n",
      "HEADER3\n",
      "Content under HEADER3.\n",
      "========================================\n"
     ]
    }
   ],
   "source": [
    "import re\n",
    "\n",
    "def split_string_by_headers(input_string):\n",
    "    # Define a regular expression pattern to match all upper case words\n",
    "    header_pattern = re.compile(r'\\n\\b[A-Z]+\\b')\n",
    "\n",
    "    # Find all matches of the pattern in the input string\n",
    "    header_matches = header_pattern.finditer(input_string)\n",
    "\n",
    "    # Extract the indices of the matches\n",
    "    header_indices = [match.start() for match in header_matches]\n",
    "\n",
    "    # Add the start and end indices of the string to mark the boundaries\n",
    "    header_indices = [-1] + header_indices + [len(input_string)]\n",
    "\n",
    "    # Split the string based on the identified header indices\n",
    "    result_parts = [input_string[header_indices[i] + 1:header_indices[i + 1]].strip() for i in range(len(header_indices) - 1)]\n",
    "\n",
    "    return result_parts\n",
    "\n",
    "# Example usage:\n",
    "input_string = \"\"\"\n",
    "HEADER1\n",
    "This is the content under HEADER1.\n",
    "\n",
    "SUBHEADER1\n",
    "Content under SUBHEADER1.\n",
    "\n",
    "HEADER2\n",
    "This is the content under HEADER2.\n",
    "\n",
    "Bullet Points:\n",
    "- Point 1\n",
    "- Point 2\n",
    "\n",
    "HEADER3\n",
    "Content under HEADER3.\n",
    "\"\"\"\n",
    "\n",
    "result = split_string_by_headers(input_string)\n",
    "\n",
    "for i, part in enumerate(result, start=1):\n",
    "    print(f\"Part {i}:\\n{part}\\n{'=' * 40}\")\n"
   ]
  },
  {
   "cell_type": "code",
   "execution_count": 10,
   "metadata": {},
   "outputs": [
    {
     "name": "stdout",
     "output_type": "stream",
     "text": [
      "Part 0:\n",
      "EXPERIENCE\n",
      "Slalom Consulting – Consultant (Data Science/Engineering); Chicago, Illinois January 2023 - Present\n",
      "● Scope a generative AI project for a major pharmaceuticals company, to help multiple finance teams with developing\n",
      "presentation support material for the C-suite, and Q&A over hundreds of various financial documents\n",
      "● Build a generative AI POC using modified Langchain and Llama-index code, OpenAI models, and Azure platform, for\n",
      "users to query a corpus of hundreds of source documents and receive insights from various economic reports\n",
      "● Analyze data discrepancies between the client’s legacy call routing tool and the newly implemented Salesforce tool\n",
      "using SQL, to ensure that the data migration between the tools is a one-to-one match\n",
      "Slalom Consulting – Associate Consultant (Data Science/Engineering); Chicago, Illinois June 2021 - January 2023\n",
      "● Wrote, tested, and productionalized 11 machine learning models alongside two other data scientists using Azure for a\n",
      "Fortune 50 company. Models helped business account leads identify churn risk level of current clients, who to pursue,\n",
      "and has projected returns of more than $200 million over three years\n",
      "● Developed three batch data pipelines and statistical models in Python to detect key metric incidents for a Fortune 50\n",
      "technology company, with the production leveraged Docker, Kubernetes pods, and Airflow DAGs. This led to a\n",
      "decrease in response times to incidents and decrease in missed anomalies by the client’s team\n",
      "● Utilized git for codebase and environment management, and code reviews, which helped formalize the team’s\n",
      "development and production process for seamless code updates\n",
      "========================================\n",
      "Part 1:\n",
      "DATA SCIENCE PROJECTS AND CONTRIBUTIONS\n",
      "Llama-index/Llama-hub Open Source Contributor Winter 2023\n",
      "● Contributed code to Llama-hub to make connections to Azure blob storage more robust and avoid credential errors\n",
      "● Enhanced functionality of the PDF Reader class from llama-index, giving users more control over document structure\n",
      "Graduate School Capstone Project – CDW, Ecommerce Team; Austin, Texas Spring 2021\n",
      "● Built a mixed-model product recommendation system with four other students, based off varying datasets such as\n",
      "clickstream and customer data, to increase revenue from online sales by 1%\n",
      "● Managed project scope and expectations between the student team and business stakeholders, while communicating\n",
      "the state of the project and clarification of different components\n",
      "========================================\n",
      "Part 2:\n",
      "LEADERSHIP EXPERIENCE AND ACTIVITIES\n",
      "Intern Manager June 2022 – August 2022\n",
      "● Developed a summer project for an intern, which he then presented to the summer cohort and Slalom management\n",
      "● Set a weekly cadence of meetings in which I checked in on his progress, answered questions, helped him get an\n",
      "understanding of Slalom as a business, connect him with others in the practice, and other ad hoc tasks\n",
      "Team USA Acrobatic Gymnastics -- Athlete April 2014 – April 2016\n",
      "● Competed in two World Championships, placing 6th and 9th in France and China, respectively\n",
      "========================================\n",
      "Part 3:\n",
      "TECHNICAL SKILLS\n",
      "● Computer Languages/Software: Python, Pandas, NumPy, Sklearn, SQL, Azure, AWS, GCP, Docker, Git, and Langchain\n",
      "● Certifications: AWS Certified Cloud Practitioner, Databricks Certified Machine Learning Associate\n",
      "========================================\n",
      "Part 4:\n",
      "EDUCATION\n",
      "The University of Texas at Austin May 2021\n",
      "Master of Science, Business Analytics\n",
      "Texas State University May 2020\n",
      "Bachelor of Business Administration, Finance (French Minor)\n",
      "========================================\n"
     ]
    }
   ],
   "source": [
    "split_resume = split_string_by_headers(resume)\n",
    "split_resume_no_header = split_resume[1:]\n",
    "for i, part in enumerate(split_resume_no_header, start=0):\n",
    "    print(f\"Part {i}:\\n{part}\\n{'=' * 40}\")"
   ]
  },
  {
   "cell_type": "code",
   "execution_count": 11,
   "metadata": {},
   "outputs": [],
   "source": [
    "# SimpleWebPageReader = download_loader(\"SimpleWebPageReader\")\n",
    "# web_page_loader = SimpleWebPageReader()\n",
    "# web_doc = web_page_loader.load_data(urls=[\"https://jobs.lever.co/cohere/105c8f72-c0ba-4f23-bc65-83de9bcd70d2\"])"
   ]
  },
  {
   "cell_type": "code",
   "execution_count": 12,
   "metadata": {},
   "outputs": [
    {
     "name": "stderr",
     "output_type": "stream",
     "text": [
      "[nltk_data] Downloading package punkt to\n",
      "[nltk_data]     /Users/alexmcgraw/nltk_data...\n",
      "[nltk_data]   Unzipping tokenizers/punkt.zip.\n"
     ]
    },
    {
     "data": {
      "text/plain": [
       "True"
      ]
     },
     "execution_count": 12,
     "metadata": {},
     "output_type": "execute_result"
    }
   ],
   "source": [
    "import nltk\n",
    "import ssl\n",
    "\n",
    "try:\n",
    "    _create_unverified_https_context = ssl._create_unverified_context\n",
    "except AttributeError:\n",
    "    pass\n",
    "else:\n",
    "    ssl._create_default_https_context = _create_unverified_https_context\n",
    "\n",
    "nltk.download('punkt')"
   ]
  },
  {
   "cell_type": "code",
   "execution_count": 13,
   "metadata": {},
   "outputs": [],
   "source": [
    "lang_web_loader = SeleniumURLLoader([\"https://www.pinterestcareers.com/en/jobs/5289231/sr-machine-learning-engineer-core-engineering-monetization-engineering/?gh_jid=5289231\"])\n",
    "web_doc = lang_web_loader.load()"
   ]
  },
  {
   "cell_type": "code",
   "execution_count": 14,
   "metadata": {},
   "outputs": [
    {
     "name": "stdout",
     "output_type": "stream",
     "text": [
      "('Sr. Machine Learning Engineer, Core Engineering & Monetization Engineering\\n'\n",
      " '\\n'\n",
      " 'San Francisco, California, United States / Palo Alto, California, United '\n",
      " 'States / Seattle, Washington, United States\\n'\n",
      " '\\n'\n",
      " 'Engineering\\n'\n",
      " '\\n'\n",
      " 'Regular\\n'\n",
      " '\\n'\n",
      " 'Feb 16 2024\\n'\n",
      " '\\n'\n",
      " 'Home\\n'\n",
      " '\\n'\n",
      " 'Jobs\\n'\n",
      " '\\n'\n",
      " 'Sr. Machine Learning Engineer, Core Engineering & Monetization Engineering\\n'\n",
      " '\\n'\n",
      " 'Description\\n'\n",
      " '\\n'\n",
      " 'About Pinterest:\\n'\n",
      " '\\n'\n",
      " 'Millions of people across the world come to Pinterest to find new ideas '\n",
      " 'every day. It’s where they get inspiration, dream about new possibilities '\n",
      " 'and plan for what matters most. Our mission is to help those people find '\n",
      " 'their inspiration and create a life they love. In your role, you’ll be '\n",
      " 'challenged to take on work that upholds this mission and pushes Pinterest '\n",
      " 'forward. You’ll grow as a person and leader in your field, all the while '\n",
      " 'helping Pinners make their lives better in the positive corner of the '\n",
      " 'internet.\\n'\n",
      " '\\n'\n",
      " 'Creating a life you love also means finding a career that celebrates the '\n",
      " 'unique perspectives and experiences that you bring. As you read through the '\n",
      " 'expectations of the position, consider how your skills and experiences may '\n",
      " 'complement the responsibilities of the role. We encourage you to think '\n",
      " 'through your relevant and transferable skills from prior experiences.\\n'\n",
      " '\\n'\n",
      " 'Our new progressive work model is called PinFlex, a term that’s uniquely '\n",
      " 'Pinterest to describe our flexible approach to living and working. Visit our '\n",
      " 'PinFlex landing page to learn more.\\n'\n",
      " '\\n'\n",
      " 'With more than 450 million users around the world and 300 billion ideas '\n",
      " 'saved, Pinterest Machine Learning engineers build personalized experiences '\n",
      " 'to help Pinners create a life they love. With just over 3,000 global '\n",
      " 'employees, our teams are small, mighty, and still growing. At Pinterest, '\n",
      " 'you’ll experience hands-on access to an incredible vault of data and '\n",
      " 'contribute large-scale recommendation systems in ways you won’t find '\n",
      " 'anywhere else.\\n'\n",
      " '\\n'\n",
      " 'What you’ll do:\\n'\n",
      " '\\n'\n",
      " 'Build cutting edge technology using the latest advances in deep learning and '\n",
      " 'machine learning to personalize Pinterest\\n'\n",
      " '\\n'\n",
      " 'Partner closely with teams across Pinterest to experiment and improve ML '\n",
      " 'models for various product surfaces (Homefeed, Ads, Growth, Shopping, and '\n",
      " 'Search), while gaining knowledge of how ML works in different areas\\n'\n",
      " '\\n'\n",
      " 'Use data driven methods and leverage the unique properties of our data to '\n",
      " 'improve candidates retrieval\\n'\n",
      " '\\n'\n",
      " 'Work in a high-impact environment with quick experimentation and product '\n",
      " 'launches\\n'\n",
      " '\\n'\n",
      " 'Keeping up with industry trends in recommendation systems\\n'\n",
      " '\\n'\n",
      " 'What we’re looking for:\\n'\n",
      " '\\n'\n",
      " '4+ years of industry experience applying machine learning methods (e.g., '\n",
      " 'user modeling, personalization, recommender systems, search, ranking, '\n",
      " 'natural language processing, reinforcement learning, and graph '\n",
      " 'representation learning)\\n'\n",
      " '\\n'\n",
      " 'End-to-end hands-on experience with building data processing pipelines, '\n",
      " 'large scale machine learning systems, and big data technologies (e.g., '\n",
      " 'Hadoop/Spark)\\n'\n",
      " '\\n'\n",
      " 'Nice to have:  M.S. or PhD in Machine Learning or related areas Publications '\n",
      " 'at top ML conferences Expertise in scalable realtime systems that process '\n",
      " 'stream data Passion for applied ML and the Pinterest product\\n'\n",
      " '\\n'\n",
      " 'This position is not eligible for relocation assistance.\\n'\n",
      " '\\n'\n",
      " '#LI-HYBRID\\n'\n",
      " '\\n'\n",
      " '#LI-SM4\\n'\n",
      " '\\n'\n",
      " 'At Pinterest we believe the workplace should be equitable, inclusive, and '\n",
      " 'inspiring for every employee. In an effort to provide greater transparency, '\n",
      " 'we are sharing the base salary range for this position. The position is also '\n",
      " 'eligible for equity. Final salary is based on a number of factors including '\n",
      " 'location, travel, relevant prior experience, or particular skills and '\n",
      " 'expertise.\\n'\n",
      " '\\n'\n",
      " 'Information regarding the culture at Pinterest and benefits available for '\n",
      " 'this position can be found here.\\n'\n",
      " '\\n'\n",
      " 'US based applicants only\\n'\n",
      " '\\n'\n",
      " '$147,800—$258,470 USD\\n'\n",
      " '\\n'\n",
      " 'Our Commitment to Diversity:\\n'\n",
      " '\\n'\n",
      " 'Pinterest is an equal opportunity employer and makes employment decisions on '\n",
      " 'the basis of merit. We want to have the best qualified people in every job. '\n",
      " 'All qualified applicants will receive consideration for employment without '\n",
      " 'regard to race, color, religion, sex, sexual orientation, gender identity, '\n",
      " 'national origin, disability, protected veteran status, or any other '\n",
      " 'characteristic under federal, state, or local law. We also consider '\n",
      " 'qualified applicants regardless of criminal histories, consistent with legal '\n",
      " 'requirements. If you require an accommodation during the job application '\n",
      " 'process, please notify accessibility@pinterest.com for support.\\n'\n",
      " '\\n'\n",
      " 'Apply Now\\n'\n",
      " '\\n'\n",
      " 'Save\\n'\n",
      " '\\n'\n",
      " 'Saved\\n'\n",
      " '\\n'\n",
      " 'Open sharing options\\n'\n",
      " '\\n'\n",
      " 'Share\\n'\n",
      " '\\n'\n",
      " '\\n'\n",
      " '\\n'\n",
      " '\\n'\n",
      " '\\n'\n",
      " '\\n'\n",
      " '\\n'\n",
      " 'Similar Jobs\\n'\n",
      " '\\n'\n",
      " 'Staff Machine Learning Engineer, Ads Ranking\\n'\n",
      " '\\n'\n",
      " 'Save\\n'\n",
      " '\\n'\n",
      " 'Saved\\n'\n",
      " '\\n'\n",
      " 'San Francisco + 2 other locations\\n'\n",
      " '\\n'\n",
      " 'Staff Software Engineer, Ads ML Infrastructure\\n'\n",
      " '\\n'\n",
      " 'Save\\n'\n",
      " '\\n'\n",
      " 'Saved\\n'\n",
      " '\\n'\n",
      " 'Palo Alto + 1 other locations\\n'\n",
      " '\\n'\n",
      " 'Sr. Staff Machine Learning Engineer, Ads Content Integrity & Quality\\n'\n",
      " '\\n'\n",
      " 'Save\\n'\n",
      " '\\n'\n",
      " 'Saved\\n'\n",
      " '\\n'\n",
      " 'San Francisco + 2 other locations\\n'\n",
      " '\\n'\n",
      " 'Engineering\\n'\n",
      " '\\n'\n",
      " 'San Francisco\\n'\n",
      " '\\n'\n",
      " 'Palo Alto\\n'\n",
      " '\\n'\n",
      " 'Seattle\\n'\n",
      " '\\n'\n",
      " '“A major benefit of working at Pinterest is our data. More than 300 billion '\n",
      " 'Pins are saved each month by 450+ million people. This data powers a '\n",
      " 'sophisticated search system, and our content organization produces strong '\n",
      " 'engagement. Pinterest is one of the only places where people don’t mind '\n",
      " 'seeing ads, since they facilitate inspiration to action, making Pinner’s '\n",
      " 'goals more tangible.”\\n'\n",
      " '\\n'\n",
      " '“I’ve grown a lot as an engineer at Pinterest. In the same way, Pinterest '\n",
      " 'itself has grown not just as a business but also in becoming a community '\n",
      " 'that I love being a part of. Good people, inspiring work and a willingness '\n",
      " 'to continuously improve the culture are what stand out for me at '\n",
      " 'Pinterest.”\\n'\n",
      " '\\n'\n",
      " 'Keep us pinned to your inbox! Stay on top of Pinterest’s news, updates, and '\n",
      " 'open roles.\\n'\n",
      " '\\n'\n",
      " 'Join now!')\n"
     ]
    }
   ],
   "source": [
    "pprint(web_doc[0].page_content)"
   ]
  },
  {
   "cell_type": "code",
   "execution_count": 15,
   "metadata": {},
   "outputs": [
    {
     "name": "stdout",
     "output_type": "stream",
     "text": [
      "This is sample HTML text .\n"
     ]
    }
   ],
   "source": [
    "def extract_text_with_bs(html_string):\n",
    "    soup = BeautifulSoup(html_string, 'html.parser')\n",
    "    text_content = soup.get_text(separator=' ', strip=True)\n",
    "    return text_content\n",
    "\n",
    "# Example usage\n",
    "html_string = '<p>This is <b>sample</b> HTML <a href=\"#\">text</a>.</p>'\n",
    "text_content = extract_text_with_bs(html_string)\n",
    "print(text_content)\n"
   ]
  },
  {
   "cell_type": "code",
   "execution_count": 16,
   "metadata": {},
   "outputs": [
    {
     "name": "stdout",
     "output_type": "stream",
     "text": [
      "('Sr. Machine Learning Engineer, Core Engineering & Monetization Engineering\\n'\n",
      " '\\n'\n",
      " 'San Francisco, California, United States / Palo Alto, California, United '\n",
      " 'States / Seattle, Washington, United States\\n'\n",
      " '\\n'\n",
      " 'Engineering\\n'\n",
      " '\\n'\n",
      " 'Regular\\n'\n",
      " '\\n'\n",
      " 'Feb 16 2024\\n'\n",
      " '\\n'\n",
      " 'Home\\n'\n",
      " '\\n'\n",
      " 'Jobs\\n'\n",
      " '\\n'\n",
      " 'Sr. Machine Learning Engineer, Core Engineering & Monetization Engineering\\n'\n",
      " '\\n'\n",
      " 'Description\\n'\n",
      " '\\n'\n",
      " 'About Pinterest:\\n'\n",
      " '\\n'\n",
      " 'Millions of people across the world come to Pinterest to find new ideas '\n",
      " 'every day. It’s where they get inspiration, dream about new possibilities '\n",
      " 'and plan for what matters most. Our mission is to help those people find '\n",
      " 'their inspiration and create a life they love. In your role, you’ll be '\n",
      " 'challenged to take on work that upholds this mission and pushes Pinterest '\n",
      " 'forward. You’ll grow as a person and leader in your field, all the while '\n",
      " 'helping Pinners make their lives better in the positive corner of the '\n",
      " 'internet.\\n'\n",
      " '\\n'\n",
      " 'Creating a life you love also means finding a career that celebrates the '\n",
      " 'unique perspectives and experiences that you bring. As you read through the '\n",
      " 'expectations of the position, consider how your skills and experiences may '\n",
      " 'complement the responsibilities of the role. We encourage you to think '\n",
      " 'through your relevant and transferable skills from prior experiences.\\n'\n",
      " '\\n'\n",
      " 'Our new progressive work model is called PinFlex, a term that’s uniquely '\n",
      " 'Pinterest to describe our flexible approach to living and working. Visit our '\n",
      " 'PinFlex landing page to learn more.\\n'\n",
      " '\\n'\n",
      " 'With more than 450 million users around the world and 300 billion ideas '\n",
      " 'saved, Pinterest Machine Learning engineers build personalized experiences '\n",
      " 'to help Pinners create a life they love. With just over 3,000 global '\n",
      " 'employees, our teams are small, mighty, and still growing. At Pinterest, '\n",
      " 'you’ll experience hands-on access to an incredible vault of data and '\n",
      " 'contribute large-scale recommendation systems in ways you won’t find '\n",
      " 'anywhere else.\\n'\n",
      " '\\n'\n",
      " 'What you’ll do:\\n'\n",
      " '\\n'\n",
      " 'Build cutting edge technology using the latest advances in deep learning and '\n",
      " 'machine learning to personalize Pinterest\\n'\n",
      " '\\n'\n",
      " 'Partner closely with teams across Pinterest to experiment and improve ML '\n",
      " 'models for various product surfaces (Homefeed, Ads, Growth, Shopping, and '\n",
      " 'Search), while gaining knowledge of how ML works in different areas\\n'\n",
      " '\\n'\n",
      " 'Use data driven methods and leverage the unique properties of our data to '\n",
      " 'improve candidates retrieval\\n'\n",
      " '\\n'\n",
      " 'Work in a high-impact environment with quick experimentation and product '\n",
      " 'launches\\n'\n",
      " '\\n'\n",
      " 'Keeping up with industry trends in recommendation systems\\n'\n",
      " '\\n'\n",
      " 'What we’re looking for:\\n'\n",
      " '\\n'\n",
      " '4+ years of industry experience applying machine learning methods (e.g., '\n",
      " 'user modeling, personalization, recommender systems, search, ranking, '\n",
      " 'natural language processing, reinforcement learning, and graph '\n",
      " 'representation learning)\\n'\n",
      " '\\n'\n",
      " 'End-to-end hands-on experience with building data processing pipelines, '\n",
      " 'large scale machine learning systems, and big data technologies (e.g., '\n",
      " 'Hadoop/Spark)\\n'\n",
      " '\\n'\n",
      " 'Nice to have:  M.S. or PhD in Machine Learning or related areas Publications '\n",
      " 'at top ML conferences Expertise in scalable realtime systems that process '\n",
      " 'stream data Passion for applied ML and the Pinterest product\\n'\n",
      " '\\n'\n",
      " 'This position is not eligible for relocation assistance.\\n'\n",
      " '\\n'\n",
      " '#LI-HYBRID\\n'\n",
      " '\\n'\n",
      " '#LI-SM4\\n'\n",
      " '\\n'\n",
      " 'At Pinterest we believe the workplace should be equitable, inclusive, and '\n",
      " 'inspiring for every employee. In an effort to provide greater transparency, '\n",
      " 'we are sharing the base salary range for this position. The position is also '\n",
      " 'eligible for equity. Final salary is based on a number of factors including '\n",
      " 'location, travel, relevant prior experience, or particular skills and '\n",
      " 'expertise.\\n'\n",
      " '\\n'\n",
      " 'Information regarding the culture at Pinterest and benefits available for '\n",
      " 'this position can be found here.\\n'\n",
      " '\\n'\n",
      " 'US based applicants only\\n'\n",
      " '\\n'\n",
      " '$147,800—$258,470 USD\\n'\n",
      " '\\n'\n",
      " 'Our Commitment to Diversity:\\n'\n",
      " '\\n'\n",
      " 'Pinterest is an equal opportunity employer and makes employment decisions on '\n",
      " 'the basis of merit. We want to have the best qualified people in every job. '\n",
      " 'All qualified applicants will receive consideration for employment without '\n",
      " 'regard to race, color, religion, sex, sexual orientation, gender identity, '\n",
      " 'national origin, disability, protected veteran status, or any other '\n",
      " 'characteristic under federal, state, or local law. We also consider '\n",
      " 'qualified applicants regardless of criminal histories, consistent with legal '\n",
      " 'requirements. If you require an accommodation during the job application '\n",
      " 'process, please notify accessibility@pinterest.com for support.\\n'\n",
      " '\\n'\n",
      " 'Apply Now\\n'\n",
      " '\\n'\n",
      " 'Save\\n'\n",
      " '\\n'\n",
      " 'Saved\\n'\n",
      " '\\n'\n",
      " 'Open sharing options\\n'\n",
      " '\\n'\n",
      " 'Share\\n'\n",
      " '\\n'\n",
      " '\\n'\n",
      " '\\n'\n",
      " '\\n'\n",
      " '\\n'\n",
      " '\\n'\n",
      " '\\n'\n",
      " 'Similar Jobs\\n'\n",
      " '\\n'\n",
      " 'Staff Machine Learning Engineer, Ads Ranking\\n'\n",
      " '\\n'\n",
      " 'Save\\n'\n",
      " '\\n'\n",
      " 'Saved\\n'\n",
      " '\\n'\n",
      " 'San Francisco + 2 other locations\\n'\n",
      " '\\n'\n",
      " 'Staff Software Engineer, Ads ML Infrastructure\\n'\n",
      " '\\n'\n",
      " 'Save\\n'\n",
      " '\\n'\n",
      " 'Saved\\n'\n",
      " '\\n'\n",
      " 'Palo Alto + 1 other locations\\n'\n",
      " '\\n'\n",
      " 'Sr. Staff Machine Learning Engineer, Ads Content Integrity & Quality\\n'\n",
      " '\\n'\n",
      " 'Save\\n'\n",
      " '\\n'\n",
      " 'Saved\\n'\n",
      " '\\n'\n",
      " 'San Francisco + 2 other locations\\n'\n",
      " '\\n'\n",
      " 'Engineering\\n'\n",
      " '\\n'\n",
      " 'San Francisco\\n'\n",
      " '\\n'\n",
      " 'Palo Alto\\n'\n",
      " '\\n'\n",
      " 'Seattle\\n'\n",
      " '\\n'\n",
      " '“A major benefit of working at Pinterest is our data. More than 300 billion '\n",
      " 'Pins are saved each month by 450+ million people. This data powers a '\n",
      " 'sophisticated search system, and our content organization produces strong '\n",
      " 'engagement. Pinterest is one of the only places where people don’t mind '\n",
      " 'seeing ads, since they facilitate inspiration to action, making Pinner’s '\n",
      " 'goals more tangible.”\\n'\n",
      " '\\n'\n",
      " '“I’ve grown a lot as an engineer at Pinterest. In the same way, Pinterest '\n",
      " 'itself has grown not just as a business but also in becoming a community '\n",
      " 'that I love being a part of. Good people, inspiring work and a willingness '\n",
      " 'to continuously improve the culture are what stand out for me at '\n",
      " 'Pinterest.”\\n'\n",
      " '\\n'\n",
      " 'Keep us pinned to your inbox! Stay on top of Pinterest’s news, updates, and '\n",
      " 'open roles.\\n'\n",
      " '\\n'\n",
      " 'Join now!')\n"
     ]
    }
   ],
   "source": [
    "job_doc = extract_text_with_bs(web_doc[0].page_content)\n",
    "pprint(job_doc)"
   ]
  },
  {
   "cell_type": "markdown",
   "metadata": {},
   "source": [
    "### Using Langchain"
   ]
  },
  {
   "cell_type": "code",
   "execution_count": 17,
   "metadata": {},
   "outputs": [
    {
     "name": "stderr",
     "output_type": "stream",
     "text": [
      "/Users/alexmcgraw/miniconda3/envs/cover-letter-generator/lib/python3.11/site-packages/langchain_core/_api/deprecation.py:117: LangChainDeprecationWarning: The class `langchain_community.chat_models.openai.ChatOpenAI` was deprecated in langchain-community 0.0.10 and will be removed in 0.2.0. An updated version of the class exists in the langchain-openai package and should be used instead. To use it run `pip install -U langchain-openai` and import as `from langchain_openai import ChatOpenAI`.\n",
      "  warn_deprecated(\n"
     ]
    }
   ],
   "source": [
    "chat = ChatOpenAI(temperature=0.5)"
   ]
  },
  {
   "cell_type": "code",
   "execution_count": 18,
   "metadata": {},
   "outputs": [
    {
     "data": {
      "text/plain": [
       "['EXPERIENCE\\nSlalom Consulting – Consultant (Data Science/Engineering); Chicago, Illinois January 2023 - Present\\n● Scope a generative AI project for a major pharmaceuticals company, to help multiple finance teams with developing\\npresentation support material for the C-suite, and Q&A over hundreds of various financial documents\\n● Build a generative AI POC using modified Langchain and Llama-index code, OpenAI models, and Azure platform, for\\nusers to query a corpus of hundreds of source documents and receive insights from various economic reports\\n● Analyze data discrepancies between the client’s legacy call routing tool and the newly implemented Salesforce tool\\nusing SQL, to ensure that the data migration between the tools is a one-to-one match\\nSlalom Consulting – Associate Consultant (Data Science/Engineering); Chicago, Illinois June 2021 - January 2023\\n● Wrote, tested, and productionalized 11 machine learning models alongside two other data scientists using Azure for a\\nFortune 50 company. Models helped business account leads identify churn risk level of current clients, who to pursue,\\nand has projected returns of more than $200 million over three years\\n● Developed three batch data pipelines and statistical models in Python to detect key metric incidents for a Fortune 50\\ntechnology company, with the production leveraged Docker, Kubernetes pods, and Airflow DAGs. This led to a\\ndecrease in response times to incidents and decrease in missed anomalies by the client’s team\\n● Utilized git for codebase and environment management, and code reviews, which helped formalize the team’s\\ndevelopment and production process for seamless code updates',\n",
       " 'DATA SCIENCE PROJECTS AND CONTRIBUTIONS\\nLlama-index/Llama-hub Open Source Contributor Winter 2023\\n● Contributed code to Llama-hub to make connections to Azure blob storage more robust and avoid credential errors\\n● Enhanced functionality of the PDF Reader class from llama-index, giving users more control over document structure\\nGraduate School Capstone Project – CDW, Ecommerce Team; Austin, Texas Spring 2021\\n● Built a mixed-model product recommendation system with four other students, based off varying datasets such as\\nclickstream and customer data, to increase revenue from online sales by 1%\\n● Managed project scope and expectations between the student team and business stakeholders, while communicating\\nthe state of the project and clarification of different components',\n",
       " 'LEADERSHIP EXPERIENCE AND ACTIVITIES\\nIntern Manager June 2022 – August 2022\\n● Developed a summer project for an intern, which he then presented to the summer cohort and Slalom management\\n● Set a weekly cadence of meetings in which I checked in on his progress, answered questions, helped him get an\\nunderstanding of Slalom as a business, connect him with others in the practice, and other ad hoc tasks\\nTeam USA Acrobatic Gymnastics -- Athlete April 2014 – April 2016\\n● Competed in two World Championships, placing 6th and 9th in France and China, respectively',\n",
       " 'TECHNICAL SKILLS\\n● Computer Languages/Software: Python, Pandas, NumPy, Sklearn, SQL, Azure, AWS, GCP, Docker, Git, and Langchain\\n● Certifications: AWS Certified Cloud Practitioner, Databricks Certified Machine Learning Associate',\n",
       " 'EDUCATION\\nThe University of Texas at Austin May 2021\\nMaster of Science, Business Analytics\\nTexas State University May 2020\\nBachelor of Business Administration, Finance (French Minor)']"
      ]
     },
     "execution_count": 18,
     "metadata": {},
     "output_type": "execute_result"
    }
   ],
   "source": [
    "[doc for doc in split_resume_no_header]"
   ]
  },
  {
   "cell_type": "code",
   "execution_count": 19,
   "metadata": {},
   "outputs": [],
   "source": [
    "messages = [\n",
    "    SystemMessage(\n",
    "        content=\"\"\"You are a job application assistant. You are to write a cover letter by using the supplied resume, which will come after 'RESUME:', and using the supplied job posting, which\n",
    "            will come after 'JOB POSTING:'. The resume will be split into different sections in a list, with order of importance descending; the most important section will come first, and least important section coming last.\n",
    "            Make sure that experiences from the resume tie back to specific points from the job posting.\n",
    "            Structure the cover letter with an intro that states clearly in your opening sentence the purpose for your letter and a brief professional introduction, \n",
    "            specifies why you are interested in that specific position and organization, and provides an overview of the main strengths and skills you will bring to the role.\n",
    "            For the body of the letter (1-2 paragraphs), cite a couple of examples from your experience that support your ability to be successful in the position,\n",
    "            try not to simply repeat your resume in paragraph form, complement your resume by offering a little more detail about key experiences, and\n",
    "            discuss what skills you have developed and connect these back to the target role.\n",
    "            For the closing paragraph, restate succinctly your interest in the role and why you are a good candidate and thank the reader for their time and consideration.\n",
    "            Address the cover letter with 'Dear Hiring Manager', and finish the letter with 'Sincerely, \\n [YOUR NAME HERE]'\n",
    "            do not exceed a page in length and do not make any information up.\n",
    "            \"\"\"\n",
    "    ),\n",
    "    HumanMessage(\n",
    "        content=f\"RESUME: {[doc for doc in split_resume_no_header]}\\n-----\\nJOB POSTING: {job_doc}\"\n",
    "    )\n",
    "]"
   ]
  },
  {
   "cell_type": "code",
   "execution_count": 20,
   "metadata": {},
   "outputs": [],
   "source": [
    "# sys_prompt_template = \"\"\"You are a job application assistant. You are to write a cover letter by using the supplied resume, which will come after 'RESUME:', and using the supplied job posting, which\n",
    "#             will come after 'JOB POSTING:'. The resume will be split into different sections in a list, with order of importance descending; the most important section will come first, and least important section coming last.\n",
    "#             Make sure that experiences from the resume tie back to specific points from the job posting.\n",
    "#             Structure the cover letter with an intro that states clearly in your opening sentence the purpose for your letter and a brief professional introduction, \n",
    "#             specifies why you are interested in that specific position and organization, and provides an overview of the main strengths and skills you will bring to the role.\n",
    "#             For the body of the letter (1-2 paragraphs), cite a couple of examples from your experience that support your ability to be successful in the position,\n",
    "#             try not to simply repeat your resume in paragraph form, complement your resume by offering a little more detail about key experiences, and\n",
    "#             discuss what skills you have developed and connect these back to the target role.\n",
    "#             For the closing paragraph, restate succinctly your interest in the role and why you are a good candidate and thank the reader for their time and consideration.\n",
    "#             Address the cover letter with 'Dear Hiring Manager', and finish the letter with 'Sincerely, \\n [YOUR NAME HERE]'\n",
    "#             do not exceed a page in length and do not make any information up.\n",
    "#             -----------\n",
    "#             RESUME: {split_resume_no_header}\n",
    "#             JOB POSTING: {job_doc}\"\"\"\n",
    "            \n",
    "# prompt = PromptTemplate(\n",
    "#     template=sys_prompt_template,\n",
    "#     input_variables=[\"split_resume_no_header\", \"job_doc\"]\n",
    "# )       "
   ]
  },
  {
   "cell_type": "code",
   "execution_count": 21,
   "metadata": {},
   "outputs": [
    {
     "name": "stderr",
     "output_type": "stream",
     "text": [
      "/Users/alexmcgraw/miniconda3/envs/cover-letter-generator/lib/python3.11/site-packages/langchain_core/_api/deprecation.py:117: LangChainDeprecationWarning: The function `__call__` was deprecated in LangChain 0.1.7 and will be removed in 0.2.0. Use invoke instead.\n",
      "  warn_deprecated(\n"
     ]
    }
   ],
   "source": [
    "output = chat(messages)"
   ]
  },
  {
   "cell_type": "code",
   "execution_count": 22,
   "metadata": {},
   "outputs": [
    {
     "data": {
      "text/plain": [
       "'Dear Hiring Manager,\\n\\nI am writing to express my interest in the Sr. Machine Learning Engineer position at Pinterest in Core Engineering & Monetization Engineering. With a background in data science and engineering, highlighted by my experience at Slalom Consulting, I am excited about the opportunity to contribute to a platform that helps millions of users find inspiration and create a life they love.\\n\\nDuring my time at Slalom Consulting, I scoped and built generative AI projects for major companies, including a pharmaceutical company, where I developed a POC using modified Langchain and Llama-index code, OpenAI models, and the Azure platform. This experience directly aligns with the responsibilities of the Sr. Machine Learning Engineer role at Pinterest, where I would be building cutting-edge technology using deep learning and machine learning to personalize the user experience on the platform.\\n\\nAdditionally, my hands-on experience in building machine learning models for Fortune 50 companies, such as developing machine learning models to identify churn risk levels and detect key metric incidents, has equipped me with the skills necessary to partner closely with teams across Pinterest to experiment and improve ML models for various product surfaces like Homefeed, Ads, Growth, Shopping, and Search.\\n\\nMoreover, my technical skills in Python, Azure, AWS, Docker, and Git, along with my certifications in AWS and Databricks, demonstrate my ability to work with large-scale machine learning systems and big data technologies, which are essential for this role. My passion for applied ML and experience in contributing to open-source projects like Llama-hub further showcase my commitment to advancing in the field of machine learning.\\n\\nI am thrilled about the opportunity to bring my expertise in data science and engineering to Pinterest and contribute to building personalized experiences for users. I am confident that my skills and experiences make me a strong candidate for the Sr. Machine Learning Engineer position, and I am eager to further discuss how I can contribute to the team.\\n\\nThank you for considering my application. I look forward to the possibility of contributing to the positive corner of the internet at Pinterest.\\n\\nSincerely,\\n[Your Name]'"
      ]
     },
     "execution_count": 22,
     "metadata": {},
     "output_type": "execute_result"
    }
   ],
   "source": [
    "output.content"
   ]
  },
  {
   "cell_type": "code",
   "execution_count": 23,
   "metadata": {},
   "outputs": [
    {
     "data": {
      "text/plain": [
       "<docx.text.paragraph.Paragraph at 0x28939da10>"
      ]
     },
     "execution_count": 23,
     "metadata": {},
     "output_type": "execute_result"
    }
   ],
   "source": [
    "document = Document()\n",
    "document.add_paragraph(output.content)"
   ]
  },
  {
   "cell_type": "code",
   "execution_count": 24,
   "metadata": {},
   "outputs": [],
   "source": [
    "document.save('cover_letter.docx')"
   ]
  },
  {
   "cell_type": "markdown",
   "metadata": {},
   "source": [
    "### Trying to implement the same thing above ^^, but using the prompt templates, because don't think the messages used above are the right way to do it. Also, want to be able to allow an optional input for extrac context from the user."
   ]
  },
  {
   "cell_type": "code",
   "execution_count": 25,
   "metadata": {},
   "outputs": [],
   "source": [
    "messages = [\n",
    "    SystemMessagePromptTemplate.from_template(\n",
    "            \"\"\"You are a job application assistant. You are to write a cover letter by using the supplied resume, which will come after 'RESUME:', and using the supplied job posting, which\n",
    "            will come after 'JOB POSTING:'. The resume will be split into different sections in a list, with order of importance descending; the most important section will come first, and least important section coming last.\n",
    "            Make sure that experiences from the resume tie back to specific points from the job posting.\n",
    "            Structure the cover letter with an intro that states clearly in your opening sentence the purpose for your letter and a brief professional introduction, \n",
    "            specifies why you are interested in that specific position and organization, and provides an overview of the main strengths and skills you will bring to the role.\n",
    "            For the body of the letter (1-2 paragraphs), cite a couple of examples from your experience that support your ability to be successful in the position,\n",
    "            try not to simply repeat your resume in paragraph form, complement your resume by offering a little more detail about key experiences, and\n",
    "            discuss what skills you have developed and connect these back to the target role.\n",
    "            For the closing paragraph, restate succinctly your interest in the role and why you are a good candidate and thank the reader for their time and consideration.\n",
    "            Address the cover letter with 'Dear Hiring Manager', and finish the letter with 'Sincerely, \\n [YOUR NAME HERE]'\n",
    "            do not exceed a page in length and do not make any information up.\n",
    "            -----------\n",
    "            RESUME: {split_resume_no_header}\n",
    "            JOB POSTING: {job_doc}\n",
    "            \"\"\"\n",
    "    ),\n",
    "    HumanMessagePromptTemplate.from_template(\n",
    "            \"{extra_context}\"\n",
    "    )\n",
    "]\n",
    "\n",
    "chat_prompt = ChatPromptTemplate.from_messages(messages)"
   ]
  },
  {
   "cell_type": "code",
   "execution_count": 26,
   "metadata": {},
   "outputs": [],
   "source": [
    "optional_text = \"\""
   ]
  },
  {
   "cell_type": "code",
   "execution_count": 27,
   "metadata": {},
   "outputs": [
    {
     "ename": "NotImplementedError",
     "evalue": "Unsupported message type: <class 'dict'>",
     "output_type": "error",
     "traceback": [
      "\u001b[0;31m---------------------------------------------------------------------------\u001b[0m",
      "\u001b[0;31mNotImplementedError\u001b[0m                       Traceback (most recent call last)",
      "Cell \u001b[0;32mIn[27], line 47\u001b[0m\n\u001b[1;32m      7\u001b[0m messages \u001b[38;5;241m=\u001b[39m [\n\u001b[1;32m      8\u001b[0m     {\n\u001b[1;32m      9\u001b[0m         \u001b[38;5;124m\"\u001b[39m\u001b[38;5;124mrole\u001b[39m\u001b[38;5;124m\"\u001b[39m: \u001b[38;5;124m\"\u001b[39m\u001b[38;5;124msystem\u001b[39m\u001b[38;5;124m\"\u001b[39m,\n\u001b[0;32m   (...)\u001b[0m\n\u001b[1;32m     43\u001b[0m     (\u001b[38;5;124m\"\u001b[39m\u001b[38;5;124moptional_text\u001b[39m\u001b[38;5;124m\"\u001b[39m, optional_text),\n\u001b[1;32m     44\u001b[0m ]\n\u001b[1;32m     46\u001b[0m \u001b[38;5;66;03m# Create a prompt template from the list of messages\u001b[39;00m\n\u001b[0;32m---> 47\u001b[0m prompt \u001b[38;5;241m=\u001b[39m \u001b[43mChatPromptTemplate\u001b[49m\u001b[38;5;241;43m.\u001b[39;49m\u001b[43mfrom_messages\u001b[49m\u001b[43m(\u001b[49m\u001b[43mmessages\u001b[49m\u001b[43m)\u001b[49m\n\u001b[1;32m     49\u001b[0m \u001b[38;5;66;03m# Instantiate the ChatOpenAI class with the desired model\u001b[39;00m\n\u001b[1;32m     50\u001b[0m model \u001b[38;5;241m=\u001b[39m ChatOpenAI(model\u001b[38;5;241m=\u001b[39m\u001b[38;5;124m\"\u001b[39m\u001b[38;5;124mgpt-3.5-turbo-16k\u001b[39m\u001b[38;5;124m\"\u001b[39m)\n",
      "File \u001b[0;32m~/miniconda3/envs/cover-letter-generator/lib/python3.11/site-packages/langchain_core/prompts/chat.py:747\u001b[0m, in \u001b[0;36mChatPromptTemplate.from_messages\u001b[0;34m(cls, messages)\u001b[0m\n\u001b[1;32m    708\u001b[0m \u001b[38;5;129m@classmethod\u001b[39m\n\u001b[1;32m    709\u001b[0m \u001b[38;5;28;01mdef\u001b[39;00m \u001b[38;5;21mfrom_messages\u001b[39m(\n\u001b[1;32m    710\u001b[0m     \u001b[38;5;28mcls\u001b[39m,\n\u001b[1;32m    711\u001b[0m     messages: Sequence[MessageLikeRepresentation],\n\u001b[1;32m    712\u001b[0m ) \u001b[38;5;241m-\u001b[39m\u001b[38;5;241m>\u001b[39m ChatPromptTemplate:\n\u001b[1;32m    713\u001b[0m \u001b[38;5;250m    \u001b[39m\u001b[38;5;124;03m\"\"\"Create a chat prompt template from a variety of message formats.\u001b[39;00m\n\u001b[1;32m    714\u001b[0m \n\u001b[1;32m    715\u001b[0m \u001b[38;5;124;03m    Examples:\u001b[39;00m\n\u001b[0;32m   (...)\u001b[0m\n\u001b[1;32m    745\u001b[0m \u001b[38;5;124;03m        a chat prompt template\u001b[39;00m\n\u001b[1;32m    746\u001b[0m \u001b[38;5;124;03m    \"\"\"\u001b[39;00m\n\u001b[0;32m--> 747\u001b[0m     _messages \u001b[38;5;241m=\u001b[39m \u001b[43m[\u001b[49m\u001b[43m_convert_to_message\u001b[49m\u001b[43m(\u001b[49m\u001b[43mmessage\u001b[49m\u001b[43m)\u001b[49m\u001b[43m \u001b[49m\u001b[38;5;28;43;01mfor\u001b[39;49;00m\u001b[43m \u001b[49m\u001b[43mmessage\u001b[49m\u001b[43m \u001b[49m\u001b[38;5;129;43;01min\u001b[39;49;00m\u001b[43m \u001b[49m\u001b[43mmessages\u001b[49m\u001b[43m]\u001b[49m\n\u001b[1;32m    749\u001b[0m     \u001b[38;5;66;03m# Automatically infer input variables from messages\u001b[39;00m\n\u001b[1;32m    750\u001b[0m     input_vars: Set[\u001b[38;5;28mstr\u001b[39m] \u001b[38;5;241m=\u001b[39m \u001b[38;5;28mset\u001b[39m()\n",
      "File \u001b[0;32m~/miniconda3/envs/cover-letter-generator/lib/python3.11/site-packages/langchain_core/prompts/chat.py:747\u001b[0m, in \u001b[0;36m<listcomp>\u001b[0;34m(.0)\u001b[0m\n\u001b[1;32m    708\u001b[0m \u001b[38;5;129m@classmethod\u001b[39m\n\u001b[1;32m    709\u001b[0m \u001b[38;5;28;01mdef\u001b[39;00m \u001b[38;5;21mfrom_messages\u001b[39m(\n\u001b[1;32m    710\u001b[0m     \u001b[38;5;28mcls\u001b[39m,\n\u001b[1;32m    711\u001b[0m     messages: Sequence[MessageLikeRepresentation],\n\u001b[1;32m    712\u001b[0m ) \u001b[38;5;241m-\u001b[39m\u001b[38;5;241m>\u001b[39m ChatPromptTemplate:\n\u001b[1;32m    713\u001b[0m \u001b[38;5;250m    \u001b[39m\u001b[38;5;124;03m\"\"\"Create a chat prompt template from a variety of message formats.\u001b[39;00m\n\u001b[1;32m    714\u001b[0m \n\u001b[1;32m    715\u001b[0m \u001b[38;5;124;03m    Examples:\u001b[39;00m\n\u001b[0;32m   (...)\u001b[0m\n\u001b[1;32m    745\u001b[0m \u001b[38;5;124;03m        a chat prompt template\u001b[39;00m\n\u001b[1;32m    746\u001b[0m \u001b[38;5;124;03m    \"\"\"\u001b[39;00m\n\u001b[0;32m--> 747\u001b[0m     _messages \u001b[38;5;241m=\u001b[39m [\u001b[43m_convert_to_message\u001b[49m\u001b[43m(\u001b[49m\u001b[43mmessage\u001b[49m\u001b[43m)\u001b[49m \u001b[38;5;28;01mfor\u001b[39;00m message \u001b[38;5;129;01min\u001b[39;00m messages]\n\u001b[1;32m    749\u001b[0m     \u001b[38;5;66;03m# Automatically infer input variables from messages\u001b[39;00m\n\u001b[1;32m    750\u001b[0m     input_vars: Set[\u001b[38;5;28mstr\u001b[39m] \u001b[38;5;241m=\u001b[39m \u001b[38;5;28mset\u001b[39m()\n",
      "File \u001b[0;32m~/miniconda3/envs/cover-letter-generator/lib/python3.11/site-packages/langchain_core/prompts/chat.py:957\u001b[0m, in \u001b[0;36m_convert_to_message\u001b[0;34m(message)\u001b[0m\n\u001b[1;32m    953\u001b[0m         _message \u001b[38;5;241m=\u001b[39m message_type_str(\n\u001b[1;32m    954\u001b[0m             prompt\u001b[38;5;241m=\u001b[39mPromptTemplate\u001b[38;5;241m.\u001b[39mfrom_template(cast(\u001b[38;5;28mstr\u001b[39m, template))\n\u001b[1;32m    955\u001b[0m         )\n\u001b[1;32m    956\u001b[0m \u001b[38;5;28;01melse\u001b[39;00m:\n\u001b[0;32m--> 957\u001b[0m     \u001b[38;5;28;01mraise\u001b[39;00m \u001b[38;5;167;01mNotImplementedError\u001b[39;00m(\u001b[38;5;124mf\u001b[39m\u001b[38;5;124m\"\u001b[39m\u001b[38;5;124mUnsupported message type: \u001b[39m\u001b[38;5;132;01m{\u001b[39;00m\u001b[38;5;28mtype\u001b[39m(message)\u001b[38;5;132;01m}\u001b[39;00m\u001b[38;5;124m\"\u001b[39m)\n\u001b[1;32m    959\u001b[0m \u001b[38;5;28;01mreturn\u001b[39;00m _message\n",
      "\u001b[0;31mNotImplementedError\u001b[0m: Unsupported message type: <class 'dict'>"
     ]
    }
   ],
   "source": [
    "# "
   ]
  },
  {
   "cell_type": "code",
   "execution_count": 28,
   "metadata": {},
   "outputs": [
    {
     "data": {
      "text/plain": [
       "['EXPERIENCE\\nSlalom Consulting – Consultant (Data Science/Engineering); Chicago, Illinois January 2023 - Present\\n● Scope a generative AI project for a major pharmaceuticals company, to help multiple finance teams with developing\\npresentation support material for the C-suite, and Q&A over hundreds of various financial documents\\n● Build a generative AI POC using modified Langchain and Llama-index code, OpenAI models, and Azure platform, for\\nusers to query a corpus of hundreds of source documents and receive insights from various economic reports\\n● Analyze data discrepancies between the client’s legacy call routing tool and the newly implemented Salesforce tool\\nusing SQL, to ensure that the data migration between the tools is a one-to-one match\\nSlalom Consulting – Associate Consultant (Data Science/Engineering); Chicago, Illinois June 2021 - January 2023\\n● Wrote, tested, and productionalized 11 machine learning models alongside two other data scientists using Azure for a\\nFortune 50 company. Models helped business account leads identify churn risk level of current clients, who to pursue,\\nand has projected returns of more than $200 million over three years\\n● Developed three batch data pipelines and statistical models in Python to detect key metric incidents for a Fortune 50\\ntechnology company, with the production leveraged Docker, Kubernetes pods, and Airflow DAGs. This led to a\\ndecrease in response times to incidents and decrease in missed anomalies by the client’s team\\n● Utilized git for codebase and environment management, and code reviews, which helped formalize the team’s\\ndevelopment and production process for seamless code updates',\n",
       " 'DATA SCIENCE PROJECTS AND CONTRIBUTIONS\\nLlama-index/Llama-hub Open Source Contributor Winter 2023\\n● Contributed code to Llama-hub to make connections to Azure blob storage more robust and avoid credential errors\\n● Enhanced functionality of the PDF Reader class from llama-index, giving users more control over document structure\\nGraduate School Capstone Project – CDW, Ecommerce Team; Austin, Texas Spring 2021\\n● Built a mixed-model product recommendation system with four other students, based off varying datasets such as\\nclickstream and customer data, to increase revenue from online sales by 1%\\n● Managed project scope and expectations between the student team and business stakeholders, while communicating\\nthe state of the project and clarification of different components',\n",
       " 'LEADERSHIP EXPERIENCE AND ACTIVITIES\\nIntern Manager June 2022 – August 2022\\n● Developed a summer project for an intern, which he then presented to the summer cohort and Slalom management\\n● Set a weekly cadence of meetings in which I checked in on his progress, answered questions, helped him get an\\nunderstanding of Slalom as a business, connect him with others in the practice, and other ad hoc tasks\\nTeam USA Acrobatic Gymnastics -- Athlete April 2014 – April 2016\\n● Competed in two World Championships, placing 6th and 9th in France and China, respectively',\n",
       " 'TECHNICAL SKILLS\\n● Computer Languages/Software: Python, Pandas, NumPy, Sklearn, SQL, Azure, AWS, GCP, Docker, Git, and Langchain\\n● Certifications: AWS Certified Cloud Practitioner, Databricks Certified Machine Learning Associate',\n",
       " 'EDUCATION\\nThe University of Texas at Austin May 2021\\nMaster of Science, Business Analytics\\nTexas State University May 2020\\nBachelor of Business Administration, Finance (French Minor)']"
      ]
     },
     "execution_count": 28,
     "metadata": {},
     "output_type": "execute_result"
    }
   ],
   "source": [
    "split_resume_no_header"
   ]
  },
  {
   "cell_type": "markdown",
   "metadata": {},
   "source": [
    "### Prompting only for the body doesn't seem to work."
   ]
  },
  {
   "cell_type": "code",
   "execution_count": 29,
   "metadata": {},
   "outputs": [],
   "source": [
    "body_prompt = \"\"\"\n",
    "You are a job application assistant. You are to write the body of a cover letter, not the introduction nor conclusion, by using the supplied resume, which will come after 'RESUME:', and using the supplied job posting, which\n",
    "will come after 'JOB POSTING:'. The resume will be split into different sections in a list, with order of importance descending; the most important section will come first, and least important section coming last.\n",
    "Make sure that experiences from the resume tie back to specific points from the job posting.\n",
    "\"\"\"\n",
    "\n",
    "body_messages = [\n",
    "    {\n",
    "        \"role\":\"system\",\n",
    "        \"content\":body_prompt\n",
    "    },\n",
    "    {\n",
    "        \"role\":\"user\",\n",
    "        \"content\":f\"RESUME: {split_resume_no_header} ----- JOB POSTING: {job_doc}\"\n",
    "    }\n",
    "]\n",
    "\n",
    "client = OpenAI()\n",
    "\n",
    "response = client.chat.completions.create(\n",
    "    model=\"gpt-3.5-turbo-16k\",\n",
    "    messages=body_messages,\n",
    "    temperature=0.7\n",
    ")"
   ]
  },
  {
   "cell_type": "code",
   "execution_count": 30,
   "metadata": {},
   "outputs": [
    {
     "data": {
      "text/plain": [
       "dict_keys(['id', 'choices', 'created', 'model', 'object', 'system_fingerprint', 'usage'])"
      ]
     },
     "execution_count": 30,
     "metadata": {},
     "output_type": "execute_result"
    }
   ],
   "source": [
    "dict(response).keys()"
   ]
  },
  {
   "cell_type": "code",
   "execution_count": 31,
   "metadata": {},
   "outputs": [
    {
     "name": "stdout",
     "output_type": "stream",
     "text": [
      "('Dear Hiring Manager,\\n'\n",
      " '\\n'\n",
      " 'I am writing to express my interest in the position of Sr. Machine Learning '\n",
      " 'Engineer, Core Engineering & Monetization Engineering at Pinterest. With my '\n",
      " 'strong background in data science and engineering, I believe I would be a '\n",
      " 'valuable asset to your team.\\n'\n",
      " '\\n'\n",
      " 'In my current role as a Consultant at Slalom Consulting, I have gained '\n",
      " 'extensive experience in developing and implementing machine learning models. '\n",
      " 'I have scoped and built generative AI projects using OpenAI models and Azure '\n",
      " 'platform, allowing users to query a corpus of source documents and receive '\n",
      " \"insights from economic reports. This experience aligns well with Pinterest's \"\n",
      " 'goal of building personalized experiences for users. Additionally, I have '\n",
      " 'worked on data analysis projects using SQL to ensure data migration between '\n",
      " 'tools is accurate, which demonstrates my attention to detail and ability to '\n",
      " 'work with large datasets.\\n'\n",
      " '\\n'\n",
      " 'Furthermore, my experience as an Associate Consultant at Slalom Consulting '\n",
      " 'has equipped me with the skills necessary to work in a high-impact '\n",
      " 'environment with quick experimentation and product launches. I have written, '\n",
      " 'tested, and productionalized machine learning models for a Fortune 50 '\n",
      " 'company, resulting in projected returns of over $200 million. This '\n",
      " 'experience demonstrates my ability to deliver results and contribute to the '\n",
      " 'growth of a company.\\n'\n",
      " '\\n'\n",
      " 'In addition to my technical skills, I also have leadership experience as an '\n",
      " 'Intern Manager at Slalom Consulting. I developed a summer project for an '\n",
      " 'intern, providing guidance and support throughout his internship. This '\n",
      " 'experience highlights my ability to mentor and manage a team, which would be '\n",
      " 'valuable in a collaborative environment like Pinterest.\\n'\n",
      " '\\n'\n",
      " 'I am proficient in Python, Pandas, NumPy, and have experience with Azure, '\n",
      " 'AWS, GCP, Docker, and Git, which are all listed as desired skills in the job '\n",
      " 'posting. I also hold certifications in AWS and Databricks, showcasing my '\n",
      " 'commitment to continuous learning and staying up-to-date with industry '\n",
      " 'standards.\\n'\n",
      " '\\n'\n",
      " \"I am excited about the opportunity to contribute to Pinterest's mission of \"\n",
      " 'helping people find inspiration and create a life they love. I believe that '\n",
      " 'my skills and experiences make me a strong fit for this position, and I '\n",
      " 'would welcome the opportunity to discuss further how I can contribute to '\n",
      " 'your team.\\n'\n",
      " '\\n'\n",
      " 'Thank you for considering my application. I look forward to the possibility '\n",
      " 'of discussing this opportunity in more detail.\\n'\n",
      " '\\n'\n",
      " 'Sincerely,\\n'\n",
      " '[Your Name]')\n"
     ]
    }
   ],
   "source": [
    "pprint(response.choices[0].message.content)"
   ]
  },
  {
   "cell_type": "code",
   "execution_count": 32,
   "metadata": {},
   "outputs": [
    {
     "data": {
      "text/plain": [
       "'Sr. Machine Learning Engineer, Core Engineering & Monetization Engineering\\n\\nSan Francisco, California, United States / Palo Alto, California, United States / Seattle, Washington, United States\\n\\nEngineering\\n\\nRegular\\n\\nFeb 16 2024\\n\\nHome\\n\\nJobs\\n\\nSr. Machine Learning Engineer, Core Engineering & Monetization Engineering\\n\\nDescription\\n\\nAbout Pinterest:\\n\\nMillions of people across the world come to Pinterest to find new ideas every day. It’s where they get inspiration, dream about new possibilities and plan for what matters most. Our mission is to help those people find their inspiration and create a life they love. In your role, you’ll be challenged to take on work that upholds this mission and pushes Pinterest forward. You’ll grow as a person and leader in your field, all the while helping Pinners make their lives better in the positive corner of the internet.\\n\\nCreating a life you love also means finding a career that celebrates the unique perspectives and experiences that you bring. As you read through the expectations of the position, consider how your skills and experiences may complement the responsibilities of the role. We encourage you to think through your relevant and transferable skills from prior experiences.\\n\\nOur new progressive work model is called PinFlex, a term that’s uniquely Pinterest to describe our flexible approach to living and working. Visit our PinFlex landing page to learn more.\\n\\nWith more than 450 million users around the world and 300 billion ideas saved, Pinterest Machine Learning engineers build personalized experiences to help Pinners create a life they love. With just over 3,000 global employees, our teams are small, mighty, and still growing. At Pinterest, you’ll experience hands-on access to an incredible vault of data and contribute large-scale recommendation systems in ways you won’t find anywhere else.\\n\\nWhat you’ll do:\\n\\nBuild cutting edge technology using the latest advances in deep learning and machine learning to personalize Pinterest\\n\\nPartner closely with teams across Pinterest to experiment and improve ML models for various product surfaces (Homefeed, Ads, Growth, Shopping, and Search), while gaining knowledge of how ML works in different areas\\n\\nUse data driven methods and leverage the unique properties of our data to improve candidates retrieval\\n\\nWork in a high-impact environment with quick experimentation and product launches\\n\\nKeeping up with industry trends in recommendation systems\\n\\nWhat we’re looking for:\\n\\n4+ years of industry experience applying machine learning methods (e.g., user modeling, personalization, recommender systems, search, ranking, natural language processing, reinforcement learning, and graph representation learning)\\n\\nEnd-to-end hands-on experience with building data processing pipelines, large scale machine learning systems, and big data technologies (e.g., Hadoop/Spark)\\n\\nNice to have:  M.S. or PhD in Machine Learning or related areas Publications at top ML conferences Expertise in scalable realtime systems that process stream data Passion for applied ML and the Pinterest product\\n\\nThis position is not eligible for relocation assistance.\\n\\n#LI-HYBRID\\n\\n#LI-SM4\\n\\nAt Pinterest we believe the workplace should be equitable, inclusive, and inspiring for every employee. In an effort to provide greater transparency, we are sharing the base salary range for this position. The position is also eligible for equity. Final salary is based on a number of factors including location, travel, relevant prior experience, or particular skills and expertise.\\n\\nInformation regarding the culture at Pinterest and benefits available for this position can be found here.\\n\\nUS based applicants only\\n\\n$147,800—$258,470 USD\\n\\nOur Commitment to Diversity:\\n\\nPinterest is an equal opportunity employer and makes employment decisions on the basis of merit. We want to have the best qualified people in every job. All qualified applicants will receive consideration for employment without regard to race, color, religion, sex, sexual orientation, gender identity, national origin, disability, protected veteran status, or any other characteristic under federal, state, or local law. We also consider qualified applicants regardless of criminal histories, consistent with legal requirements. If you require an accommodation during the job application process, please notify accessibility@pinterest.com for support.\\n\\nApply Now\\n\\nSave\\n\\nSaved\\n\\nOpen sharing options\\n\\nShare\\n\\n\\n\\n\\n\\n\\n\\nSimilar Jobs\\n\\nStaff Machine Learning Engineer, Ads Ranking\\n\\nSave\\n\\nSaved\\n\\nSan Francisco + 2 other locations\\n\\nStaff Software Engineer, Ads ML Infrastructure\\n\\nSave\\n\\nSaved\\n\\nPalo Alto + 1 other locations\\n\\nSr. Staff Machine Learning Engineer, Ads Content Integrity & Quality\\n\\nSave\\n\\nSaved\\n\\nSan Francisco + 2 other locations\\n\\nEngineering\\n\\nSan Francisco\\n\\nPalo Alto\\n\\nSeattle\\n\\n“A major benefit of working at Pinterest is our data. More than 300 billion Pins are saved each month by 450+ million people. This data powers a sophisticated search system, and our content organization produces strong engagement. Pinterest is one of the only places where people don’t mind seeing ads, since they facilitate inspiration to action, making Pinner’s goals more tangible.”\\n\\n“I’ve grown a lot as an engineer at Pinterest. In the same way, Pinterest itself has grown not just as a business but also in becoming a community that I love being a part of. Good people, inspiring work and a willingness to continuously improve the culture are what stand out for me at Pinterest.”\\n\\nKeep us pinned to your inbox! Stay on top of Pinterest’s news, updates, and open roles.\\n\\nJoin now!'"
      ]
     },
     "execution_count": 32,
     "metadata": {},
     "output_type": "execute_result"
    }
   ],
   "source": [
    "job_doc"
   ]
  },
  {
   "cell_type": "markdown",
   "metadata": {},
   "source": [
    "### Testing again, with recommendations from https://community.openai.com/t/prompt-model-with-list-of-strings-and-ranked-importance/565708/3 . Write whole cover letter, reranking resume first and/or recursively building cover letter."
   ]
  },
  {
   "cell_type": "markdown",
   "metadata": {},
   "source": [
    "Identify most important parts of a job listing"
   ]
  },
  {
   "cell_type": "code",
   "execution_count": 33,
   "metadata": {},
   "outputs": [],
   "source": [
    "import re\n",
    "\n",
    "job_doc_no_extra_space = re.sub(' +', ' ', job_doc)"
   ]
  },
  {
   "cell_type": "code",
   "execution_count": 34,
   "metadata": {},
   "outputs": [
    {
     "data": {
      "text/plain": [
       "'Sr. Machine Learning Engineer, Core Engineering & Monetization Engineering\\n\\nSan Francisco, California, United States / Palo Alto, California, United States / Seattle, Washington, United States\\n\\nEngineering\\n\\nRegular\\n\\nFeb 16 2024\\n\\nHome\\n\\nJobs\\n\\nSr. Machine Learning Engineer, Core Engineering & Monetization Engineering\\n\\nDescription\\n\\nAbout Pinterest:\\n\\nMillions of people across the world come to Pinterest to find new ideas every day. It’s where they get inspiration, dream about new possibilities and plan for what matters most. Our mission is to help those people find their inspiration and create a life they love. In your role, you’ll be challenged to take on work that upholds this mission and pushes Pinterest forward. You’ll grow as a person and leader in your field, all the while helping Pinners make their lives better in the positive corner of the internet.\\n\\nCreating a life you love also means finding a career that celebrates the unique perspectives and experiences that you bring. As you read through the expectations of the position, consider how your skills and experiences may complement the responsibilities of the role. We encourage you to think through your relevant and transferable skills from prior experiences.\\n\\nOur new progressive work model is called PinFlex, a term that’s uniquely Pinterest to describe our flexible approach to living and working. Visit our PinFlex landing page to learn more.\\n\\nWith more than 450 million users around the world and 300 billion ideas saved, Pinterest Machine Learning engineers build personalized experiences to help Pinners create a life they love. With just over 3,000 global employees, our teams are small, mighty, and still growing. At Pinterest, you’ll experience hands-on access to an incredible vault of data and contribute large-scale recommendation systems in ways you won’t find anywhere else.\\n\\nWhat you’ll do:\\n\\nBuild cutting edge technology using the latest advances in deep learning and machine learning to personalize Pinterest\\n\\nPartner closely with teams across Pinterest to experiment and improve ML models for various product surfaces (Homefeed, Ads, Growth, Shopping, and Search), while gaining knowledge of how ML works in different areas\\n\\nUse data driven methods and leverage the unique properties of our data to improve candidates retrieval\\n\\nWork in a high-impact environment with quick experimentation and product launches\\n\\nKeeping up with industry trends in recommendation systems\\n\\nWhat we’re looking for:\\n\\n4+ years of industry experience applying machine learning methods (e.g., user modeling, personalization, recommender systems, search, ranking, natural language processing, reinforcement learning, and graph representation learning)\\n\\nEnd-to-end hands-on experience with building data processing pipelines, large scale machine learning systems, and big data technologies (e.g., Hadoop/Spark)\\n\\nNice to have: M.S. or PhD in Machine Learning or related areas Publications at top ML conferences Expertise in scalable realtime systems that process stream data Passion for applied ML and the Pinterest product\\n\\nThis position is not eligible for relocation assistance.\\n\\n#LI-HYBRID\\n\\n#LI-SM4\\n\\nAt Pinterest we believe the workplace should be equitable, inclusive, and inspiring for every employee. In an effort to provide greater transparency, we are sharing the base salary range for this position. The position is also eligible for equity. Final salary is based on a number of factors including location, travel, relevant prior experience, or particular skills and expertise.\\n\\nInformation regarding the culture at Pinterest and benefits available for this position can be found here.\\n\\nUS based applicants only\\n\\n$147,800—$258,470 USD\\n\\nOur Commitment to Diversity:\\n\\nPinterest is an equal opportunity employer and makes employment decisions on the basis of merit. We want to have the best qualified people in every job. All qualified applicants will receive consideration for employment without regard to race, color, religion, sex, sexual orientation, gender identity, national origin, disability, protected veteran status, or any other characteristic under federal, state, or local law. We also consider qualified applicants regardless of criminal histories, consistent with legal requirements. If you require an accommodation during the job application process, please notify accessibility@pinterest.com for support.\\n\\nApply Now\\n\\nSave\\n\\nSaved\\n\\nOpen sharing options\\n\\nShare\\n\\n\\n\\n\\n\\n\\n\\nSimilar Jobs\\n\\nStaff Machine Learning Engineer, Ads Ranking\\n\\nSave\\n\\nSaved\\n\\nSan Francisco + 2 other locations\\n\\nStaff Software Engineer, Ads ML Infrastructure\\n\\nSave\\n\\nSaved\\n\\nPalo Alto + 1 other locations\\n\\nSr. Staff Machine Learning Engineer, Ads Content Integrity & Quality\\n\\nSave\\n\\nSaved\\n\\nSan Francisco + 2 other locations\\n\\nEngineering\\n\\nSan Francisco\\n\\nPalo Alto\\n\\nSeattle\\n\\n“A major benefit of working at Pinterest is our data. More than 300 billion Pins are saved each month by 450+ million people. This data powers a sophisticated search system, and our content organization produces strong engagement. Pinterest is one of the only places where people don’t mind seeing ads, since they facilitate inspiration to action, making Pinner’s goals more tangible.”\\n\\n“I’ve grown a lot as an engineer at Pinterest. In the same way, Pinterest itself has grown not just as a business but also in becoming a community that I love being a part of. Good people, inspiring work and a willingness to continuously improve the culture are what stand out for me at Pinterest.”\\n\\nKeep us pinned to your inbox! Stay on top of Pinterest’s news, updates, and open roles.\\n\\nJoin now!'"
      ]
     },
     "execution_count": 34,
     "metadata": {},
     "output_type": "execute_result"
    }
   ],
   "source": [
    "job_doc_no_extra_space"
   ]
  },
  {
   "cell_type": "code",
   "execution_count": 35,
   "metadata": {},
   "outputs": [],
   "source": [
    "job_importance_prompt = \"\"\"You are a job search assistant. You are tasked with identifying the top 3 most important elements of a job listing in descending order, along with all of the info in the listing that accompanies the element. \n",
    "                            Return your response in JSON format, where each key is a number between 1-5, inclusive, which represents its ranking with 1 being first most important, and 3 being third most important.\n",
    "                            The values returned should be a list, where the first element in the list (index 0) should be the exact element from the text, and the second element in the list (index 1) should be the info accompanying the element.\n",
    "                            The job posting will come after \"JOB POSTING:\" \"\"\"\n",
    "\n",
    "body_messages = [\n",
    "    {\n",
    "    \"role\": \"system\",\n",
    "    \"content\": job_importance_prompt\n",
    "    },\n",
    "    {\n",
    "    \"role\": \"user\",\n",
    "    \"content\": f\"JOB POSTING: {job_doc_no_extra_space}\"\n",
    "    }\n",
    "]\n",
    "\n",
    "client = OpenAI()\n",
    "\n",
    "response = client.chat.completions.create(\n",
    "    model=\"gpt-3.5-turbo-16k\",\n",
    "    messages=body_messages,\n",
    "    temperature=0.5\n",
    ")\n",
    "    "
   ]
  },
  {
   "cell_type": "code",
   "execution_count": 36,
   "metadata": {},
   "outputs": [
    {
     "name": "stdout",
     "output_type": "stream",
     "text": [
      "('{\\n'\n",
      " '  \"1\": [\\n'\n",
      " '    \"Job Title\",\\n'\n",
      " '    \"Sr. Machine Learning Engineer, Core Engineering & Monetization '\n",
      " 'Engineering\"\\n'\n",
      " '  ],\\n'\n",
      " '  \"2\": [\\n'\n",
      " '    \"Description\",\\n'\n",
      " '    \"About Pinterest:\\\\n\\\\nMillions of people across the world come to '\n",
      " 'Pinterest to find new ideas every day. It’s where they get inspiration, '\n",
      " 'dream about new possibilities and plan for what matters most. Our mission is '\n",
      " 'to help those people find their inspiration and create a life they love. In '\n",
      " 'your role, you’ll be challenged to take on work that upholds this mission '\n",
      " 'and pushes Pinterest forward. You’ll grow as a person and leader in your '\n",
      " 'field, all the while helping Pinners make their lives better in the positive '\n",
      " 'corner of the internet.\\\\n\\\\nCreating a life you love also means finding a '\n",
      " 'career that celebrates the unique perspectives and experiences that you '\n",
      " 'bring. As you read through the expectations of the position, consider how '\n",
      " 'your skills and experiences may complement the responsibilities of the role. '\n",
      " 'We encourage you to think through your relevant and transferable skills from '\n",
      " 'prior experiences.\\\\n\\\\nOur new progressive work model is called PinFlex, a '\n",
      " 'term that’s uniquely Pinterest to describe our flexible approach to living '\n",
      " 'and working. Visit our PinFlex landing page to learn more.\\\\n\\\\nWith more '\n",
      " 'than 450 million users around the world and 300 billion ideas saved, '\n",
      " 'Pinterest Machine Learning engineers build personalized experiences to help '\n",
      " 'Pinners create a life they love. With just over 3,000 global employees, our '\n",
      " 'teams are small, mighty, and still growing. At Pinterest, you’ll experience '\n",
      " 'hands-on access to an incredible vault of data and contribute large-scale '\n",
      " 'recommendation systems in ways you won’t find anywhere else.\"\\n'\n",
      " '  ],\\n'\n",
      " '  \"3\": [\\n'\n",
      " '    \"Requirements\",\\n'\n",
      " '    \"4+ years of industry experience applying machine learning methods '\n",
      " '(e.g., user modeling, personalization, recommender systems, search, ranking, '\n",
      " 'natural language processing, reinforcement learning, and graph '\n",
      " 'representation learning)\\\\n\\\\nEnd-to-end hands-on experience with building '\n",
      " 'data processing pipelines, large scale machine learning systems, and big '\n",
      " 'data technologies (e.g., Hadoop/Spark)\\\\n\\\\nNice to have: M.S. or PhD in '\n",
      " 'Machine Learning or related areas Publications at top ML conferences '\n",
      " 'Expertise in scalable realtime systems that process stream data Passion for '\n",
      " 'applied ML and the Pinterest product\"\\n'\n",
      " '  ]\\n'\n",
      " '}')\n"
     ]
    }
   ],
   "source": [
    "pprint(response.choices[0].message.content)"
   ]
  },
  {
   "cell_type": "markdown",
   "metadata": {},
   "source": [
    "#### Doing the \"pick elements\" thing isn't quite working as I wanted, so now just gonna make a baseline output using the same prompts as I used during Langchain usage. Wanna start testing this all out with some Pydantic after"
   ]
  },
  {
   "cell_type": "code",
   "execution_count": 37,
   "metadata": {},
   "outputs": [],
   "source": [
    "system_message = \"\"\"You are a job application assistant. You are to write a cover letter by using the supplied resume, which will come after 'RESUME:', and using the supplied job posting, which\n",
    "            will come after 'JOB POSTING:'. The resume will be split into different sections in a list, with order of importance descending; the most important section will come first, and least important section coming last.\n",
    "            Make sure that experiences from the resume tie back to specific points from the job posting.\n",
    "            Structure the cover letter with an intro that states clearly in your opening sentence the purpose for your letter and a brief professional introduction, \n",
    "            specifies why you are interested in that specific position and organization, and provides an overview of the main strengths and skills you will bring to the role.\n",
    "            For the body of the letter (1-2 paragraphs), cite a couple of examples from your experience that support your ability to be successful in the position,\n",
    "            try not to simply repeat your resume in paragraph form, complement your resume by offering a little more detail about key experiences, and\n",
    "            discuss what skills you have developed and connect these back to the target role.\n",
    "            For the closing paragraph, restate succinctly your interest in the role and why you are a good candidate and thank the reader for their time and consideration.\n",
    "            Address the cover letter with 'Dear Hiring Manager', and finish the letter with 'Sincerely, \\n [YOUR NAME HERE]'\n",
    "            do not exceed a page in length and do not make any information up.\n",
    "            \"\"\"\n",
    "\n",
    "user_message = f\"RESUME: {split_resume_no_header}\\n-----\\nJOB POSTING: {job_doc}\"\n",
    "\n",
    "body_messages = [\n",
    "    {\n",
    "        \"role\":\"system\",\n",
    "        \"content\":system_message\n",
    "    },\n",
    "    {\n",
    "        \"role\":\"user\",\n",
    "        \"content\":user_message\n",
    "    }\n",
    "]\n",
    "\n",
    "client = OpenAI()\n",
    "\n",
    "response = client.chat.completions.create(\n",
    "    model=\"gpt-3.5-turbo-16k\",\n",
    "    messages=body_messages,\n",
    "    temperature=0.7\n",
    ")"
   ]
  },
  {
   "cell_type": "code",
   "execution_count": 38,
   "metadata": {},
   "outputs": [
    {
     "name": "stdout",
     "output_type": "stream",
     "text": [
      "('Dear Hiring Manager,\\n'\n",
      " '\\n'\n",
      " 'I am writing to express my interest in the Sr. Machine Learning Engineer '\n",
      " 'position in Core Engineering & Monetization Engineering at Pinterest. With '\n",
      " 'my strong background in data science and engineering, as well as my passion '\n",
      " 'for personalization and recommendation systems, I believe I would be a '\n",
      " 'valuable asset to your team.\\n'\n",
      " '\\n'\n",
      " \"After reviewing the job posting, I was immediately drawn to Pinterest's \"\n",
      " 'mission of helping people find inspiration and create a life they love. I '\n",
      " 'have always been fascinated by the power of data and technology to '\n",
      " \"personalize experiences and provide value to users, and Pinterest's emphasis \"\n",
      " 'on using machine learning to achieve this aligns perfectly with my career '\n",
      " 'goals. I am excited about the opportunity to contribute to a platform that '\n",
      " 'positively impacts millions of people worldwide.\\n'\n",
      " '\\n'\n",
      " 'In my current role as a Consultant at Slalom Consulting, I have gained '\n",
      " 'extensive experience in building generative AI models and analyzing data '\n",
      " 'discrepancies using SQL. These experiences have allowed me to develop a deep '\n",
      " 'understanding of machine learning methods and data processing pipelines, '\n",
      " 'which I believe are essential skills for success in this position. '\n",
      " 'Additionally, my work on machine learning models for a Fortune 50 company '\n",
      " 'has demonstrated my ability to collaborate with cross-functional teams and '\n",
      " 'deliver impactful results.\\n'\n",
      " '\\n'\n",
      " 'One of the key responsibilities of the Sr. Machine Learning Engineer role at '\n",
      " 'Pinterest is to partner closely with teams across the company to experiment '\n",
      " 'and improve ML models for various product surfaces. In my previous roles, I '\n",
      " 'have successfully collaborated with different teams to develop and deploy '\n",
      " 'machine learning models that have had a significant impact on business '\n",
      " 'outcomes. For example, I worked with business account leads to develop '\n",
      " 'machine learning models that identified churn risk levels of current '\n",
      " 'clients, resulting in projected returns of over $200 million over three '\n",
      " 'years. This experience has equipped me with the skills to effectively '\n",
      " 'collaborate with stakeholders and drive measurable results.\\n'\n",
      " '\\n'\n",
      " 'Furthermore, my technical skills in Python, Pandas, NumPy, Sklearn, SQL, and '\n",
      " 'experience with Azure, AWS, GCP, Docker, and Git align with the requirements '\n",
      " 'of the position. I have also obtained certifications in AWS Certified Cloud '\n",
      " 'Practitioner and Databricks Certified Machine Learning Associate, which '\n",
      " 'demonstrate my commitment to continuous learning and professional '\n",
      " 'development.\\n'\n",
      " '\\n'\n",
      " 'In conclusion, I am eager to contribute my skills and expertise to '\n",
      " \"Pinterest's mission of personalizing experiences and helping users create a \"\n",
      " 'life they love. My experience in data science and engineering, coupled with '\n",
      " 'my passion for machine learning and recommendation systems, make me a strong '\n",
      " 'fit for the Sr. Machine Learning Engineer position. Thank you for '\n",
      " 'considering my application.\\n'\n",
      " '\\n'\n",
      " 'Sincerely,\\n'\n",
      " '[YOUR NAME HERE]')\n"
     ]
    }
   ],
   "source": [
    "pprint(response.choices[0].message.content)"
   ]
  },
  {
   "cell_type": "code",
   "execution_count": 40,
   "metadata": {},
   "outputs": [
    {
     "ename": "FileNotFoundError",
     "evalue": "[Errno 2] No such file or directory: \"/Users/alexmcgraw/Documents/Resumes:Cover Letters:Case_stuff/Alex McGraw Resume, December '23, v2.pdf\"",
     "output_type": "error",
     "traceback": [
      "\u001b[0;31m---------------------------------------------------------------------------\u001b[0m",
      "\u001b[0;31mFileNotFoundError\u001b[0m                         Traceback (most recent call last)",
      "Cell \u001b[0;32mIn[40], line 1\u001b[0m\n\u001b[0;32m----> 1\u001b[0m lang_PDFReader \u001b[38;5;241m=\u001b[39m \u001b[43mpdfplumber\u001b[49m\u001b[38;5;241;43m.\u001b[39;49m\u001b[43mopen\u001b[49m\u001b[43m(\u001b[49m\u001b[38;5;124;43m\"\u001b[39;49m\u001b[38;5;124;43m/Users/alexmcgraw/Documents/Resumes:Cover Letters:Case_stuff/Alex McGraw Resume, December \u001b[39;49m\u001b[38;5;124;43m'\u001b[39;49m\u001b[38;5;124;43m23, v2.pdf\u001b[39;49m\u001b[38;5;124;43m\"\u001b[39;49m\u001b[43m)\u001b[49m\n\u001b[1;32m      2\u001b[0m lang_PDFReader_page \u001b[38;5;241m=\u001b[39m lang_PDFReader\u001b[38;5;241m.\u001b[39mpages[\u001b[38;5;241m0\u001b[39m]\n\u001b[1;32m      3\u001b[0m resume \u001b[38;5;241m=\u001b[39m lang_PDFReader_page\u001b[38;5;241m.\u001b[39mextract_text()\n",
      "File \u001b[0;32m~/miniconda3/envs/cover-letter-generator/lib/python3.11/site-packages/pdfplumber/pdf.py:71\u001b[0m, in \u001b[0;36mPDF.open\u001b[0;34m(cls, path_or_fp, pages, laparams, password, strict_metadata)\u001b[0m\n\u001b[1;32m     60\u001b[0m \u001b[38;5;129m@classmethod\u001b[39m\n\u001b[1;32m     61\u001b[0m \u001b[38;5;28;01mdef\u001b[39;00m \u001b[38;5;21mopen\u001b[39m(\n\u001b[1;32m     62\u001b[0m     \u001b[38;5;28mcls\u001b[39m,\n\u001b[0;32m   (...)\u001b[0m\n\u001b[1;32m     67\u001b[0m     strict_metadata: \u001b[38;5;28mbool\u001b[39m \u001b[38;5;241m=\u001b[39m \u001b[38;5;28;01mFalse\u001b[39;00m,\n\u001b[1;32m     68\u001b[0m ) \u001b[38;5;241m-\u001b[39m\u001b[38;5;241m>\u001b[39m \u001b[38;5;124m\"\u001b[39m\u001b[38;5;124mPDF\u001b[39m\u001b[38;5;124m\"\u001b[39m:\n\u001b[1;32m     70\u001b[0m     \u001b[38;5;28;01mif\u001b[39;00m \u001b[38;5;28misinstance\u001b[39m(path_or_fp, (\u001b[38;5;28mstr\u001b[39m, pathlib\u001b[38;5;241m.\u001b[39mPath)):\n\u001b[0;32m---> 71\u001b[0m         stream: Union[BufferedReader, BytesIO] \u001b[38;5;241m=\u001b[39m \u001b[38;5;28;43mopen\u001b[39;49m\u001b[43m(\u001b[49m\u001b[43mpath_or_fp\u001b[49m\u001b[43m,\u001b[49m\u001b[43m \u001b[49m\u001b[38;5;124;43m\"\u001b[39;49m\u001b[38;5;124;43mrb\u001b[39;49m\u001b[38;5;124;43m\"\u001b[39;49m\u001b[43m)\u001b[49m\n\u001b[1;32m     72\u001b[0m         stream_is_external \u001b[38;5;241m=\u001b[39m \u001b[38;5;28;01mFalse\u001b[39;00m\n\u001b[1;32m     73\u001b[0m     \u001b[38;5;28;01melse\u001b[39;00m:\n",
      "\u001b[0;31mFileNotFoundError\u001b[0m: [Errno 2] No such file or directory: \"/Users/alexmcgraw/Documents/Resumes:Cover Letters:Case_stuff/Alex McGraw Resume, December '23, v2.pdf\""
     ]
    }
   ],
   "source": [
    "lang_PDFReader = pdfplumber.open(\"/Users/alexmcgraw/Documents/Resumes:Cover Letters:Case_stuff/Alex McGraw Resume, December '23, v2.pdf\")\n",
    "lang_PDFReader_page = lang_PDFReader.pages[0]\n",
    "resume = lang_PDFReader_page.extract_text()\n",
    "# resume = lang_PDFReader.load()\n",
    "pprint(resume)"
   ]
  },
  {
   "cell_type": "code",
   "execution_count": 41,
   "metadata": {},
   "outputs": [],
   "source": [
    "from typing import ClassVar, Optional\n",
    "\n",
    "class CoverLetterGenerator(BaseModel):\n",
    "\n",
    "    resume_path: str\n",
    "    job_posting_url:str\n",
    "    default_sys_prompt: ClassVar[str]=\"\"\"You are a job application assistant. You are to write a cover letter by using the supplied resume, which will come after 'RESUME:', and using the supplied job posting, which\n",
    "            will come after 'JOB POSTING:'. The resume will be split into different sections in a list, with order of importance descending; the most important section will come first, and least important section coming last.\n",
    "            Make sure that experiences from the resume tie back to specific points from the job posting.\n",
    "            Structure the cover letter with an intro that states clearly in your opening sentence the purpose for your letter and a brief professional introduction, \n",
    "            specifies why you are interested in that specific position and organization, and provides an overview of the main strengths and skills you will bring to the role.\n",
    "            For the body of the letter (1-2 paragraphs), cite a couple of examples from your experience that support your ability to be successful in the position,\n",
    "            try not to simply repeat your resume in paragraph form, complement your resume by offering a little more detail about key experiences, and\n",
    "            discuss what skills you have developed and connect these back to the target role.\n",
    "            For the closing paragraph, restate succinctly your interest in the role and why you are a good candidate and thank the reader for their time and consideration.\n",
    "            Address the cover letter with 'Dear Hiring Manager', and finish the letter with 'Sincerely, \\n [YOUR NAME HERE]'\n",
    "            do not exceed a page in length and do not make any information up.\n",
    "            \"\"\"\n",
    "    default_user_prompt: ClassVar[str]=f\"RESUME: {split_resume_no_header}\\n-----\\nJOB POSTING: {job_doc}\"\n",
    "\n",
    "    # def __init__(self, resume_path: str, job_posting_url: str, default_sys_prompt: Optional[str]=None, default_user_prompt: Optional[str]=None):\n",
    "    #     super().__init__()\n",
    "    #     self.resume_path=resume_path\n",
    "    #     self.job_posting_url=job_posting_url\n",
    "    #     self.default_sys_prompt=default_sys_prompt or self.default_sys_prompt\n",
    "    #     self.default_user_prompt=default_user_prompt or self.default_user_prompt\n",
    "    \n",
    "    def _read_resume(self) -> str:\n",
    "        read_in_resume = pdfplumber.open(self.resume_path)\n",
    "        pages = read_in_resume.pages[0]\n",
    "        resume = pages.extract_text()\n",
    "\n",
    "        return resume\n",
    "    \n",
    "    def _split_resume_into_list(self) -> list:\n",
    "\n",
    "        resume = self._read_resume()\n",
    "        # Define a regular expression pattern to match all upper case words\n",
    "        header_pattern = re.compile(r'\\n\\b[A-Z]+\\b')\n",
    "\n",
    "        # Find all matches of the pattern in the input string\n",
    "        header_matches = header_pattern.finditer(resume)\n",
    "\n",
    "        # Extract the indices of the matches\n",
    "        header_indices = [match.start() for match in header_matches]\n",
    "\n",
    "        # Add the start and end indices of the string to mark the boundaries\n",
    "        header_indices = [-1] + header_indices + [len(resume)]\n",
    "\n",
    "        # Split the string based on the identified header indices\n",
    "        result_parts = [resume[header_indices[i] + 1:header_indices[i + 1]].strip() for i in range(len(header_indices) - 1)]\n",
    "\n",
    "        return result_parts[1:]\n",
    "    \n",
    "    def _load_job_listing_html(self) -> str:\n",
    "        from langchain.document_loaders import SeleniumURLLoader\n",
    "\n",
    "        web_doc = SeleniumURLLoader([self.job_posting_url]).load()\n",
    "\n",
    "        return web_doc\n",
    "    \n",
    "    def _load_job_listing_text(self) -> str:\n",
    "        from bs4 import BeautifulSoup\n",
    "\n",
    "        html = self._load_job_listing_html()\n",
    "        soup = BeautifulSoup(html[0].page_content, 'html.parser')\n",
    "        text_content = soup.get_text(separator=' ', strip=True)\n",
    "        \n",
    "        return text_content\n",
    "    \n",
    "    def generate_cover_letter(self, temperature: float = 0.7) -> str:\n",
    "        from openai import OpenAI\n",
    "\n",
    "        split_resume_no_header = self._split_resume_into_list()\n",
    "        job_doc = self._load_job_listing_text()\n",
    "\n",
    "        body_messages = [\n",
    "            {\n",
    "                \"role\":\"system\",\n",
    "                \"content\":self.default_sys_prompt\n",
    "            },\n",
    "            {\n",
    "                \"role\":\"user\",\n",
    "                \"content\":self.default_user_prompt\n",
    "            }\n",
    "        ]\n",
    "\n",
    "        client = OpenAI()\n",
    "\n",
    "        response = client.chat.completions.create(\n",
    "            model=\"gpt-3.5-turbo-16k\",\n",
    "            messages=body_messages,\n",
    "            temperature=temperature\n",
    "        )\n",
    "\n",
    "        return response.choices[0].message.content"
   ]
  },
  {
   "cell_type": "code",
   "execution_count": 42,
   "metadata": {},
   "outputs": [],
   "source": [
    "class CoverLetterGenerator(BaseModel):\n",
    "\n",
    "    resume_path: str\n",
    "    job_posting_url:str\n",
    "    default_sys_prompt: ClassVar[str]=\"\"\"You are a job application assistant. You are to write a cover letter by using the supplied resume, which will come after 'RESUME:', and using the supplied job posting, which\n",
    "            will come after 'JOB POSTING:'. The resume will be split into different sections in a list, with order of importance descending; the most important section will come first, and least important section coming last.\n",
    "            Make sure that experiences from the resume tie back to specific points from the job posting.\n",
    "            Structure the cover letter with an intro that states clearly in your opening sentence the purpose for your letter and a brief professional introduction, \n",
    "            specifies why you are interested in that specific position and organization, and provides an overview of the main strengths and skills you will bring to the role.\n",
    "            For the body of the letter (1-2 paragraphs), cite a couple of examples from your experience that support your ability to be successful in the position,\n",
    "            try not to simply repeat your resume in paragraph form, complement your resume by offering a little more detail about key experiences, and\n",
    "            discuss what skills you have developed and connect these back to the target role.\n",
    "            For the closing paragraph, restate succinctly your interest in the role and why you are a good candidate and thank the reader for their time and consideration.\n",
    "            Address the cover letter with 'Dear Hiring Manager', and finish the letter with 'Sincerely, \\n [YOUR NAME HERE]'\n",
    "            do not exceed a page in length and do not make any information up.\n",
    "            \"\"\"\n",
    "    # default_user_prompt: ClassVar[str]=f\"RESUME: {split_resume_no_header}\\n-----\\nJOB POSTING: {job_doc}\"\n",
    "    default_user_prompt: str = \"\"\n",
    "\n",
    "    def __init__(self, resume_path: str, job_posting_url: str):\n",
    "        super().__init__(resume_path=resume_path, job_posting_url=job_posting_url)\n",
    "        self.set_default_user_prompt()\n",
    "\n",
    "    def set_default_user_prompt(self):\n",
    "        split_resume_no_header = self._split_resume_into_list()\n",
    "        job_doc = self._load_job_listing_text()\n",
    "        self.default_user_prompt = f\"RESUME: {split_resume_no_header}\\n-----\\nJOB POSTING: {job_doc}\"\n",
    "\n",
    "    \n",
    "    def _read_resume(self) -> str:\n",
    "        import pdfplumber \n",
    "\n",
    "        read_in_resume = pdfplumber.open(self.resume_path)\n",
    "        pages = read_in_resume.pages[0]\n",
    "        resume = pages.extract_text()\n",
    "\n",
    "        return resume\n",
    "    \n",
    "    def _split_resume_into_list(self) -> list:\n",
    "\n",
    "        resume = self._read_resume()\n",
    "        # Define a regular expression pattern to match all upper case words\n",
    "        header_pattern = re.compile(r'\\n\\b[A-Z]+\\b')\n",
    "\n",
    "        # Find all matches of the pattern in the input string\n",
    "        header_matches = header_pattern.finditer(resume)\n",
    "\n",
    "        # Extract the indices of the matches\n",
    "        header_indices = [match.start() for match in header_matches]\n",
    "\n",
    "        # Add the start and end indices of the string to mark the boundaries\n",
    "        header_indices = [-1] + header_indices + [len(resume)]\n",
    "\n",
    "        # Split the string based on the identified header indices\n",
    "        result_parts = [resume[header_indices[i] + 1:header_indices[i + 1]].strip() for i in range(len(header_indices) - 1)]\n",
    "\n",
    "        return result_parts[1:]\n",
    "    \n",
    "    def _load_job_listing_html(self) -> str:\n",
    "        from langchain.document_loaders import SeleniumURLLoader\n",
    "\n",
    "        web_doc = SeleniumURLLoader([self.job_posting_url]).load()\n",
    "\n",
    "        return web_doc\n",
    "    \n",
    "    def _load_job_listing_text(self) -> str:\n",
    "        from bs4 import BeautifulSoup\n",
    "\n",
    "        html = self._load_job_listing_html()\n",
    "        soup = BeautifulSoup(html[0].page_content, 'html.parser')\n",
    "        text_content = soup.get_text(separator=' ', strip=True)\n",
    "        \n",
    "        return text_content\n",
    "    \n",
    "    def generate_cover_letter(self, temperature: float = 0.7) -> str:\n",
    "        from openai import OpenAI\n",
    "\n",
    "        split_resume_no_header = self._split_resume_into_list()\n",
    "        job_doc = self._load_job_listing_text()\n",
    "\n",
    "        body_messages = [\n",
    "            {\n",
    "                \"role\":\"system\",\n",
    "                \"content\":self.default_sys_prompt\n",
    "            },\n",
    "            {\n",
    "                \"role\":\"user\",\n",
    "                \"content\":self.default_user_prompt\n",
    "            }\n",
    "        ]\n",
    "\n",
    "        client = OpenAI()\n",
    "\n",
    "        response = client.chat.completions.create(\n",
    "            model=\"gpt-3.5-turbo-16k\",\n",
    "            messages=body_messages,\n",
    "            temperature=temperature\n",
    "        )\n",
    "\n",
    "        return response.choices[0].message.content\n"
   ]
  },
  {
   "cell_type": "code",
   "execution_count": 43,
   "metadata": {},
   "outputs": [],
   "source": [
    "cl = CoverLetterGenerator(resume_path=\"Alex McGraw Resume Dec 23 v2.pdf\", \n",
    "                          job_posting_url='https://www.pinterestcareers.com/en/jobs/5289231/sr-machine-learning-engineer-core-engineering-monetization-engineering/?gh_jid=5289231')\n",
    "cover_letter = cl.generate_cover_letter()"
   ]
  },
  {
   "cell_type": "code",
   "execution_count": 51,
   "metadata": {},
   "outputs": [
    {
     "data": {
      "text/plain": [
       "['Dear Hiring Manager,',\n",
       " 'I am writing to express my interest in the Sr. Machine Learning Engineer position in Core Engineering & Monetization Engineering at Pinterest. With my strong background in data science and machine learning, I believe I have the skills and experiences necessary to contribute to the personalized experiences that Pinterest provides to its users.',\n",
       " \"In my current role as a Consultant at Slalom Consulting, I have been responsible for scoping and building generative AI projects for major clients. For example, I developed a generative AI proof-of-concept using OpenAI models and Azure platform to allow users to query a corpus of financial documents and receive insights from economic reports. This experience aligns with the job posting's requirement for building cutting-edge technology using deep learning and machine learning to personalize Pinterest. Additionally, my experience in analyzing data discrepancies and ensuring data migration matches using SQL showcases my ability to work with data-driven methods and improve retrieval.\",\n",
       " 'I have also demonstrated my ability to work in a high-impact environment with quick experimentation and product launches. As an Associate Consultant at Slalom, I worked with a Fortune 50 company to write, test, and productionalize 11 machine learning models using Azure. These models helped the business account leads identify churn risk level of current clients and projected returns of over $200 million. This experience highlights my end-to-end hands-on experience with building machine learning systems and my ability to work with large-scale recommendation systems.',\n",
       " 'Furthermore, my technical skills in Python, Pandas, NumPy, SQL, Azure, and AWS, as well as my certifications in AWS Certified Cloud Practitioner and Databricks Certified Machine Learning Associate, make me well-equipped to contribute to the technical requirements of the role.',\n",
       " \"I am excited about the opportunity to join Pinterest and be part of a team that is dedicated to empowering users to find inspiration and create a life they love. I believe my skills and experiences make me a strong candidate for the Sr. Machine Learning Engineer position, and I am eager to contribute to Pinterest's mission.\",\n",
       " 'Thank you for considering my application. I look forward to the opportunity to discuss how my skills and experiences align with the needs of Pinterest. ',\n",
       " 'Sincerely,\\n[YOUR NAME HERE]']"
      ]
     },
     "execution_count": 51,
     "metadata": {},
     "output_type": "execute_result"
    }
   ],
   "source": [
    "cover_letter.split('\\n\\n')"
   ]
  },
  {
   "cell_type": "code",
   "execution_count": 53,
   "metadata": {},
   "outputs": [],
   "source": [
    "doc = Document()\n",
    "doc.add_paragraph(cover_letter)\n",
    "doc.save('cover-letter.docx')"
   ]
  },
  {
   "cell_type": "code",
   "execution_count": 45,
   "metadata": {},
   "outputs": [
    {
     "data": {
      "text/plain": [
       "'https://www.pinterestcareers.com/en/jobs/5289231/sr-machine-learning-engineer-core-engineering-monetization-engineering/?gh_jid=5289231'"
      ]
     },
     "execution_count": 45,
     "metadata": {},
     "output_type": "execute_result"
    }
   ],
   "source": [
    "from pydantic import BaseModel, AnyUrl, HttpUrl, StrictStr\n",
    "\n",
    "test = HttpUrl('https://www.pinterestcareers.com/en/jobs/5289231/sr-machine-learning-engineer-core-engineering-monetization-engineering/?gh_jid=5289231')\n",
    "test.unicode_string()"
   ]
  },
  {
   "cell_type": "code",
   "execution_count": 46,
   "metadata": {},
   "outputs": [
    {
     "data": {
      "text/plain": [
       "'test'"
      ]
     },
     "execution_count": 46,
     "metadata": {},
     "output_type": "execute_result"
    }
   ],
   "source": [
    "StrictStr('test')"
   ]
  },
  {
   "cell_type": "code",
   "execution_count": 47,
   "metadata": {},
   "outputs": [
    {
     "name": "stdout",
     "output_type": "stream",
     "text": [
      "('Dear Hiring Manager,\\n'\n",
      " '\\n'\n",
      " 'I am writing to express my interest in the Sr. Machine Learning Engineer '\n",
      " 'position at Pinterest, specifically in the Core Engineering & Monetization '\n",
      " 'Engineering team. With my background in data science and engineering, I '\n",
      " 'believe I have the skills and experience necessary to contribute to the '\n",
      " 'development of personalized experiences for Pinterest users and help them '\n",
      " 'create a life they love.\\n'\n",
      " '\\n'\n",
      " 'In my current role as a Consultant at Slalom Consulting, I have worked on '\n",
      " 'generative AI projects for major companies, including developing '\n",
      " 'presentation support material for the C-suite and building a generative AI '\n",
      " 'proof-of-concept for querying a corpus of source documents. These '\n",
      " 'experiences have allowed me to gain hands-on experience with deep learning '\n",
      " 'and machine learning techniques, which I believe would be valuable in '\n",
      " 'building personalized experiences for Pinterest users.\\n'\n",
      " '\\n'\n",
      " 'Additionally, I have collaborated closely with cross-functional teams to '\n",
      " 'improve machine learning models and have knowledge of how ML works in '\n",
      " 'different areas, aligning with the expectation of partnering with teams '\n",
      " 'across Pinterest to experiment and improve ML models for various product '\n",
      " 'surfaces. I have also worked on data processing pipelines and large-scale '\n",
      " 'machine learning systems, utilizing technologies such as Hadoop/Spark, which '\n",
      " 'aligns with the requirement of end-to-end hands-on experience with building '\n",
      " 'data processing pipelines and big data technologies.\\n'\n",
      " '\\n'\n",
      " 'Furthermore, I have a strong passion for applied ML and the Pinterest '\n",
      " 'product. I have actively contributed to open-source projects, including '\n",
      " 'enhancing the functionality of the PDF Reader class for Llama-index, which '\n",
      " \"aligns with Pinterest's emphasis on keeping up with industry trends in \"\n",
      " 'recommendation systems and having expertise in scalable systems.\\n'\n",
      " '\\n'\n",
      " 'I am excited about the opportunity to join Pinterest and contribute to the '\n",
      " 'mission of helping people find inspiration and create a life they love. I '\n",
      " 'believe my skills and experiences make me a strong fit for this role, and I '\n",
      " 'am confident that I can make a positive impact on the team.\\n'\n",
      " '\\n'\n",
      " 'Thank you for considering my application. I look forward to the opportunity '\n",
      " 'to discuss how my skills and experiences align with the needs of '\n",
      " 'Pinterest. \\n'\n",
      " '\\n'\n",
      " 'Sincerely,\\n'\n",
      " '[YOUR NAME HERE]')\n"
     ]
    }
   ],
   "source": [
    "import json\n",
    "from pprint import pprint\n",
    "\n",
    "with open('FastAPI Swagger Response.json', 'r') as f:\n",
    "    doc = json.load(f)\n",
    "\n",
    "pprint(doc)"
   ]
  }
 ],
 "metadata": {
  "kernelspec": {
   "display_name": "katie_article_summarizer",
   "language": "python",
   "name": "python3"
  },
  "language_info": {
   "codemirror_mode": {
    "name": "ipython",
    "version": 3
   },
   "file_extension": ".py",
   "mimetype": "text/x-python",
   "name": "python",
   "nbconvert_exporter": "python",
   "pygments_lexer": "ipython3",
   "version": "3.11.7"
  }
 },
 "nbformat": 4,
 "nbformat_minor": 2
}
